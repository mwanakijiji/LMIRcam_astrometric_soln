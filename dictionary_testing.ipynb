{
 "cells": [
  {
   "cell_type": "code",
   "execution_count": null,
   "metadata": {
    "collapsed": true
   },
   "outputs": [],
   "source": [
    "# This makes a cube of FITS files, so as to inspect images en masse with DS9\n",
    "\n",
    "# Saved as .py file, 2017 Nov 19\n",
    "\n",
    "# created 2017 Nov 19 by E.S."
   ]
  },
  {
   "cell_type": "code",
   "execution_count": 1,
   "metadata": {
    "collapsed": false
   },
   "outputs": [],
   "source": [
    "import matplotlib\n",
    "import matplotlib.pyplot as plt\n",
    "from matplotlib.dates import DateFormatter\n",
    "import numpy as np\n",
    "import pandas as pd\n",
    "import datetime\n",
    "from astropy.io import fits\n",
    "import asciitable\n",
    "from pathlib import Path\n",
    "import pickle\n",
    "import astropy\n",
    "from astropy import units as u\n",
    "from astropy.coordinates import SkyCoord"
   ]
  },
  {
   "cell_type": "code",
   "execution_count": 2,
   "metadata": {
    "collapsed": true
   },
   "outputs": [],
   "source": [
    "# set file paths and datasets\n",
    "\n",
    "dirTreeStem = ('/home/../../media/unasemaje/Seagate Expansion Drive/lbti_data_reduction/'\n",
    "               'lmircam_astrometry/ut_2017_11_06/asterism/processedData/')\n",
    "retrievalPiece = ('step03_derotate/')\n",
    "depositPiece = ('step04_ditherMedians/')\n",
    "fileNameStem = ('lm_171106_')"
   ]
  },
  {
   "cell_type": "code",
   "execution_count": 3,
   "metadata": {
    "collapsed": true
   },
   "outputs": [],
   "source": [
    "picklefile = 'identified_stars_171106.p'\n",
    "fo1=open(picklefile,'rb')\n",
    "dat=pickle.load(fo1)\n",
    "fo1.close()"
   ]
  },
  {
   "cell_type": "code",
   "execution_count": 5,
   "metadata": {
    "collapsed": true
   },
   "outputs": [],
   "source": [
    "# read in text file\n",
    "\n",
    "df = pd.read_csv('star_ra_dec_list.csv')"
   ]
  },
  {
   "cell_type": "code",
   "execution_count": 7,
   "metadata": {
    "collapsed": false
   },
   "outputs": [],
   "source": [
    "# extract RA, DEC for C1/2 and D1\n",
    "\n",
    "chooseStar1 = np.where(df[' shorthand']==' '+dat['dither_pos_00'][1][0])[0]\n",
    "chooseStar2 = np.where(df[' shorthand']==' '+dat['dither_pos_00'][1][2])[0]\n",
    "raString1 = df[' RA'][chooseStar1].values\n",
    "decString1 = df[' DEC'][chooseStar1].values\n",
    "raString2 = df[' RA'][chooseStar2].values\n",
    "decString2 = df[' DEC'][chooseStar2].values"
   ]
  },
  {
   "cell_type": "code",
   "execution_count": 23,
   "metadata": {
    "collapsed": false
   },
   "outputs": [
    {
     "data": {
      "text/plain": [
       "array([ 33.35034613])"
      ]
     },
     "execution_count": 23,
     "metadata": {},
     "output_type": "execute_result"
    }
   ],
   "source": [
    "c_C12 = SkyCoord(raString1+decString1, unit=(u.hourangle, u.deg))\n",
    "c_zeta = SkyCoord(raString2+decString2, unit=(u.hourangle, u.deg))\n",
    "c_C12.position_angle(c_zeta).degree"
   ]
  },
  {
   "cell_type": "code",
   "execution_count": 29,
   "metadata": {
    "collapsed": false
   },
   "outputs": [
    {
     "data": {
      "text/plain": [
       "array([' 5:35:16.4602 -5:23:22.8832'], dtype=object)"
      ]
     },
     "execution_count": 29,
     "metadata": {},
     "output_type": "execute_result"
    }
   ],
   "source": [
    "raString+decString"
   ]
  },
  {
   "cell_type": "code",
   "execution_count": 30,
   "metadata": {
    "collapsed": true
   },
   "outputs": [],
   "source": [
    "c3test = SkyCoord(raString+decString, unit=(u.hourangle, u.deg))"
   ]
  },
  {
   "cell_type": "code",
   "execution_count": 34,
   "metadata": {
    "collapsed": false
   },
   "outputs": [
    {
     "name": "stdout",
     "output_type": "stream",
     "text": [
      "<SkyCoord (ICRS): (ra, dec) in deg\n",
      "    ( 83.81552292, -5.38956519)>\n",
      "<SkyCoord (ICRS): (ra, dec) in deg\n",
      "    [( 83.81858417, -5.38968978)]>\n"
     ]
    }
   ],
   "source": [
    "print(c3)\n",
    "print(c3test)"
   ]
  },
  {
   "cell_type": "code",
   "execution_count": 15,
   "metadata": {
    "collapsed": false
   },
   "outputs": [
    {
     "data": {
      "text/plain": [
       "' 5:35:15.7673 -5:23:9.82764'"
      ]
     },
     "execution_count": 15,
     "metadata": {},
     "output_type": "execute_result"
    }
   ],
   "source": [
    "str(df[' RA'][1])+str(df[' DEC'][1])"
   ]
  },
  {
   "cell_type": "code",
   "execution_count": 33,
   "metadata": {
    "collapsed": false
   },
   "outputs": [
    {
     "data": {
      "text/plain": [
       "2.834654188645067"
      ]
     },
     "execution_count": 33,
     "metadata": {},
     "output_type": "execute_result"
    }
   ],
   "source": [
    "c3 = SkyCoord(str(df[' RA'][0])+str(df[' DEC'][0]), unit=(u.hourangle, u.deg))\n",
    "c4 = SkyCoord(str(df[' RA'][1])+str(df[' DEC'][1]), unit=(u.hourangle, u.deg))\n",
    "c5 = SkyCoord(str(0)+str(df[' DEC'][1]), unit=(u.hourangle, u.deg))\n",
    "c3.position_angle(c4).degree"
   ]
  },
  {
   "cell_type": "code",
   "execution_count": 22,
   "metadata": {
    "collapsed": false
   },
   "outputs": [
    {
     "name": "stdout",
     "output_type": "stream",
     "text": [
      "<SkyCoord (ICRS): (ra, dec) in deg\n",
      "    ( 83.81569708, -5.38606323)>\n",
      "<SkyCoord (ICRS): (ra, dec) in deg\n",
      "    ( 0., -5.38606323)>\n",
      "94.815483148266\n"
     ]
    }
   ],
   "source": [
    "print(c4)\n",
    "print(c5)\n",
    "print(c5.position_angle(c4).degree)"
   ]
  },
  {
   "cell_type": "code",
   "execution_count": 26,
   "metadata": {
    "collapsed": false
   },
   "outputs": [
    {
     "data": {
      "text/plain": [
       "270.0"
      ]
     },
     "execution_count": 26,
     "metadata": {},
     "output_type": "execute_result"
    }
   ],
   "source": [
    "c1 = SkyCoord(0*u.deg, 0*u.deg)\n",
    "c2 = SkyCoord(-1*u.deg, 0*u.deg)\n",
    "c1.position_angle(c2).degree"
   ]
  },
  {
   "cell_type": "code",
   "execution_count": 28,
   "metadata": {
    "collapsed": false
   },
   "outputs": [
    {
     "name": "stdout",
     "output_type": "stream",
     "text": [
      "0d00m00s\n",
      "0d00m00s\n"
     ]
    }
   ],
   "source": [
    "print(c1.dec)\n",
    "print(c2.dec)"
   ]
  },
  {
   "cell_type": "code",
   "execution_count": 7,
   "metadata": {
    "collapsed": false
   },
   "outputs": [
    {
     "data": {
      "text/html": [
       "<div>\n",
       "<table border=\"1\" class=\"dataframe\">\n",
       "  <thead>\n",
       "    <tr style=\"text-align: right;\">\n",
       "      <th></th>\n",
       "      <th>name</th>\n",
       "      <th>shorthand</th>\n",
       "      <th>RA</th>\n",
       "      <th>DEC</th>\n",
       "    </tr>\n",
       "  </thead>\n",
       "  <tbody>\n",
       "    <tr>\n",
       "      <th>0</th>\n",
       "      <td>Parenago 1866</td>\n",
       "      <td>gamma</td>\n",
       "      <td>5:35:15.7255</td>\n",
       "      <td>-5:23:22.4347</td>\n",
       "    </tr>\n",
       "    <tr>\n",
       "      <th>1</th>\n",
       "      <td>tet01 Ori E</td>\n",
       "      <td>E1</td>\n",
       "      <td>5:35:15.7673</td>\n",
       "      <td>-5:23:9.82764</td>\n",
       "    </tr>\n",
       "    <tr>\n",
       "      <th>2</th>\n",
       "      <td>JW489</td>\n",
       "      <td>epsilon</td>\n",
       "      <td>5:35:15.7879</td>\n",
       "      <td>-5:23:26.5168</td>\n",
       "    </tr>\n",
       "    <tr>\n",
       "      <th>3</th>\n",
       "      <td>tet01 Ori A1</td>\n",
       "      <td>A1</td>\n",
       "      <td>5:35:15.8202</td>\n",
       "      <td>-5:23:14.2891</td>\n",
       "    </tr>\n",
       "    <tr>\n",
       "      <th>4</th>\n",
       "      <td>Parenago 1867</td>\n",
       "      <td>beta</td>\n",
       "      <td>5:35:15.8337</td>\n",
       "      <td>-5:23:22.4207</td>\n",
       "    </tr>\n",
       "    <tr>\n",
       "      <th>5</th>\n",
       "      <td>TCC47</td>\n",
       "      <td>delta</td>\n",
       "      <td>5:35:15.8408</td>\n",
       "      <td>-5:23:25.5078</td>\n",
       "    </tr>\n",
       "    <tr>\n",
       "      <th>6</th>\n",
       "      <td>JW494</td>\n",
       "      <td>omega</td>\n",
       "      <td>5:35:15.8739</td>\n",
       "      <td>-5:23:1.89992</td>\n",
       "    </tr>\n",
       "    <tr>\n",
       "      <th>7</th>\n",
       "      <td>tet01 Ori B2</td>\n",
       "      <td>B2</td>\n",
       "      <td>5:35:16.069</td>\n",
       "      <td>-5:23:6.96452</td>\n",
       "    </tr>\n",
       "    <tr>\n",
       "      <th>8</th>\n",
       "      <td>tet01 Ori B1</td>\n",
       "      <td>B1</td>\n",
       "      <td>5:35:16.1299</td>\n",
       "      <td>-5:23:6.71895</td>\n",
       "    </tr>\n",
       "    <tr>\n",
       "      <th>9</th>\n",
       "      <td>LV 3</td>\n",
       "      <td>theta</td>\n",
       "      <td>5:35:16.283</td>\n",
       "      <td>-5:23:16.512</td>\n",
       "    </tr>\n",
       "    <tr>\n",
       "      <th>10</th>\n",
       "      <td>TCC 70</td>\n",
       "      <td>eta</td>\n",
       "      <td>5:35:16.6148</td>\n",
       "      <td>-5:23:16.0836</td>\n",
       "    </tr>\n",
       "    <tr>\n",
       "      <th>11</th>\n",
       "      <td>tet01 Ori F</td>\n",
       "      <td>sigma</td>\n",
       "      <td>5:35:16.7236</td>\n",
       "      <td>-5:23:25.1688</td>\n",
       "    </tr>\n",
       "    <tr>\n",
       "      <th>12</th>\n",
       "      <td>tet01 Ori G</td>\n",
       "      <td>zeta</td>\n",
       "      <td>5:35:16.7469</td>\n",
       "      <td>-5:23:16.3777</td>\n",
       "    </tr>\n",
       "    <tr>\n",
       "      <th>13</th>\n",
       "      <td>tet01 Ori D2</td>\n",
       "      <td>D2</td>\n",
       "      <td>5:35:17.1675</td>\n",
       "      <td>-5:23:17.0013</td>\n",
       "    </tr>\n",
       "    <tr>\n",
       "      <th>14</th>\n",
       "      <td>tet01 Ori C</td>\n",
       "      <td>C1/2</td>\n",
       "      <td>5:35:16.4602</td>\n",
       "      <td>-5:23:22.8832</td>\n",
       "    </tr>\n",
       "    <tr>\n",
       "      <th>15</th>\n",
       "      <td>tet01 Ori D1</td>\n",
       "      <td>D1</td>\n",
       "      <td>5:35:17.2558</td>\n",
       "      <td>-5:23:16.5298</td>\n",
       "    </tr>\n",
       "  </tbody>\n",
       "</table>\n",
       "</div>"
      ],
      "text/plain": [
       "             name  shorthand             RA             DEC\n",
       "0   Parenago 1866      gamma   5:35:15.7255   -5:23:22.4347\n",
       "1     tet01 Ori E         E1   5:35:15.7673   -5:23:9.82764\n",
       "2           JW489    epsilon   5:35:15.7879   -5:23:26.5168\n",
       "3    tet01 Ori A1         A1   5:35:15.8202   -5:23:14.2891\n",
       "4   Parenago 1867       beta   5:35:15.8337   -5:23:22.4207\n",
       "5           TCC47      delta   5:35:15.8408   -5:23:25.5078\n",
       "6           JW494      omega   5:35:15.8739   -5:23:1.89992\n",
       "7    tet01 Ori B2         B2    5:35:16.069   -5:23:6.96452\n",
       "8    tet01 Ori B1         B1   5:35:16.1299   -5:23:6.71895\n",
       "9            LV 3      theta    5:35:16.283    -5:23:16.512\n",
       "10         TCC 70        eta   5:35:16.6148   -5:23:16.0836\n",
       "11    tet01 Ori F      sigma   5:35:16.7236   -5:23:25.1688\n",
       "12    tet01 Ori G       zeta   5:35:16.7469   -5:23:16.3777\n",
       "13   tet01 Ori D2         D2   5:35:17.1675   -5:23:17.0013\n",
       "14    tet01 Ori C       C1/2   5:35:16.4602   -5:23:22.8832\n",
       "15   tet01 Ori D1         D1   5:35:17.2558   -5:23:16.5298"
      ]
     },
     "execution_count": 7,
     "metadata": {},
     "output_type": "execute_result"
    }
   ],
   "source": [
    "df"
   ]
  },
  {
   "cell_type": "code",
   "execution_count": null,
   "metadata": {
    "collapsed": true
   },
   "outputs": [],
   "source": []
  },
  {
   "cell_type": "code",
   "execution_count": null,
   "metadata": {
    "collapsed": true
   },
   "outputs": [],
   "source": [
    "coordsModel_d = np.array(dat['coordsModel_d_matched']) # not sure what this would be useful for, though\n",
    "coordsModel_not_d = np.array(dat['coordsModel_not_d_matched']) # 'ideal' (x,y)\n",
    "coordsEmpirical =  np.array(dat['coordsEmpirical_matched']) # empirical (x,y)"
   ]
  },
  {
   "cell_type": "code",
   "execution_count": 3,
   "metadata": {
    "collapsed": false
   },
   "outputs": [],
   "source": [
    "def make_median(ditherPos,startNum,stopNum,xSize=2048,ySize=2048,N=1):\n",
    "    '''\n",
    "    makes a median from a range of FITS files\n",
    "    INPUTS--\n",
    "    ditherPos: number indicating the dither number\n",
    "    startNum: first frame number\n",
    "    stopNum: last frame number (inclusive)\n",
    "    xSize: pixels in x-dimension\n",
    "    ySize: pixels in y-dimension\n",
    "    N: number of frames between each one used to make the median (default is 1: no skipped frames)\n",
    "    '''\n",
    "    N = N # use every N frames\n",
    "    xSize = xSize\n",
    "    ySize = ySize\n",
    "    sliceNum = 0 # initialize cube slice number\n",
    "    cubeArray = np.zeros((int(np.divide(stopNum-startNum+1,N)),xSize,ySize),dtype=np.int64)\n",
    "    for f in range(startNum,stopNum+1): # loop over filenames\n",
    "        if (f%N == 0): \n",
    "            print('----------------------------------------')\n",
    "            print(str(f))\n",
    "            image, header = fits.getdata(dirTreeStem+\n",
    "                                         retrievalPiece+\n",
    "                                 fileNameStem+\n",
    "                                 str(\"{:0>5d}\".format(f))+\n",
    "                                 '.fits',\n",
    "                                 0,\n",
    "                                 header=True)\n",
    "            \n",
    "            cubeArray[sliceNum,:,:] = image\n",
    "            sliceNum += 1 # move to next slice\n",
    "    \n",
    "    # take median\n",
    "    medianArray = np.median(cubeArray,axis=0)\n",
    "    \n",
    "    # save median\n",
    "    hdu = fits.PrimaryHDU(medianArray)\n",
    "    hdulist = fits.HDUList([hdu])\n",
    "    hdulist.writeto(dirTreeStem+depositPiece+fileNameStem+'dither_'+str(\"{:0>2d}\".format(ditherPos))+'.fits',\n",
    "                    overwrite=False)"
   ]
  },
  {
   "cell_type": "code",
   "execution_count": 20,
   "metadata": {
    "collapsed": false
   },
   "outputs": [
    {
     "name": "stdout",
     "output_type": "stream",
     "text": [
      "----------------------------------------\n",
      "8923\n",
      "----------------------------------------\n",
      "8924\n",
      "----------------------------------------\n",
      "8925\n",
      "----------------------------------------\n",
      "8926\n",
      "----------------------------------------\n",
      "8927\n",
      "----------------------------------------\n",
      "8928\n",
      "----------------------------------------\n",
      "8929\n",
      "----------------------------------------\n",
      "8930\n",
      "----------------------------------------\n",
      "8931\n",
      "----------------------------------------\n",
      "8932\n",
      "----------------------------------------\n",
      "8933\n",
      "----------------------------------------\n",
      "8934\n",
      "----------------------------------------\n",
      "8935\n",
      "----------------------------------------\n",
      "8936\n",
      "----------------------------------------\n",
      "8937\n",
      "----------------------------------------\n",
      "8938\n",
      "----------------------------------------\n",
      "8939\n",
      "----------------------------------------\n",
      "8940\n",
      "----------------------------------------\n",
      "8941\n"
     ]
    }
   ],
   "source": [
    "# run the function\n",
    "\n",
    "make_median(16,8923,8941)"
   ]
  },
  {
   "cell_type": "code",
   "execution_count": null,
   "metadata": {
    "collapsed": true
   },
   "outputs": [],
   "source": []
  }
 ],
 "metadata": {
  "kernelspec": {
   "display_name": "Python 3",
   "language": "python",
   "name": "python3"
  },
  "language_info": {
   "codemirror_mode": {
    "name": "ipython",
    "version": 3
   },
   "file_extension": ".py",
   "mimetype": "text/x-python",
   "name": "python",
   "nbconvert_exporter": "python",
   "pygments_lexer": "ipython3",
   "version": "3.5.4"
  }
 },
 "nbformat": 4,
 "nbformat_minor": 0
}
