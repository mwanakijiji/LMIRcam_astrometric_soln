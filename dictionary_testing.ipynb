{
 "cells": [
  {
   "cell_type": "code",
   "execution_count": null,
   "metadata": {
    "collapsed": true
   },
   "outputs": [],
   "source": [
    "# This makes a cube of FITS files, so as to inspect images en masse with DS9\n",
    "\n",
    "# Saved as .py file, 2017 Nov 19\n",
    "\n",
    "# created 2017 Nov 19 by E.S."
   ]
  },
  {
   "cell_type": "code",
   "execution_count": 1,
   "metadata": {
    "collapsed": false
   },
   "outputs": [],
   "source": [
    "import matplotlib\n",
    "import matplotlib.pyplot as plt\n",
    "from matplotlib.dates import DateFormatter\n",
    "import numpy as np\n",
    "import pandas as pd\n",
    "import datetime\n",
    "from astropy.io import fits\n",
    "import asciitable\n",
    "from pathlib import Path\n",
    "import pickle\n",
    "import astropy\n",
    "from astropy import units as u\n",
    "from astropy.coordinates import SkyCoord\n",
    "import math\n",
    "import itertools"
   ]
  },
  {
   "cell_type": "code",
   "execution_count": 2,
   "metadata": {
    "collapsed": true
   },
   "outputs": [],
   "source": [
    "# set file paths and datasets\n",
    "\n",
    "dirTreeStem = ('/home/../../media/unasemaje/Seagate Expansion Drive/lbti_data_reduction/'\n",
    "               'lmircam_astrometry/ut_2017_11_06/asterism/processedData/')\n",
    "retrievalPiece = ('step03_derotate/')\n",
    "depositPiece = ('step04_ditherMedians/')\n",
    "fileNameStem = ('lm_171106_')"
   ]
  },
  {
   "cell_type": "code",
   "execution_count": 3,
   "metadata": {
    "collapsed": true
   },
   "outputs": [],
   "source": [
    "picklefile = 'identified_stars_171106.p'\n",
    "fo1=open(picklefile,'rb')\n",
    "dat=pickle.load(fo1)\n",
    "fo1.close()"
   ]
  },
  {
   "cell_type": "code",
   "execution_count": 4,
   "metadata": {
    "collapsed": true
   },
   "outputs": [],
   "source": [
    "# read in text file\n",
    "\n",
    "df = pd.read_csv('star_ra_dec_list.csv')"
   ]
  },
  {
   "cell_type": "code",
   "execution_count": 5,
   "metadata": {
    "collapsed": true
   },
   "outputs": [],
   "source": [
    "def order_Y(star1input, star2input, star1nameInput, star2nameInput):\n",
    "    \n",
    "    # turn (x,y) dataframe into numpy array\n",
    "    #xy_coord = np.copy(datInput[2])\n",
    "    \n",
    "    # determine which object is higher in y\n",
    "    if (star1input[1] > star2input[1]):\n",
    "        c_high = star1input\n",
    "        c_low = star2input\n",
    "        name_high = star1nameInput\n",
    "        name_low = star2nameInput\n",
    "    else:\n",
    "        c_high = star2input\n",
    "        c_low = star1input\n",
    "        name_high = star2nameInput\n",
    "        name_low = star1nameInput\n",
    "        \n",
    "    # find angle (in deg)\n",
    "    del_x = -np.subtract(c_high[0],c_low[0]) # minus sign because we want del_x E of N\n",
    "    del_y = np.subtract(c_high[1],c_low[1])\n",
    "    pos_angle_XY = np.arctan(np.divide(del_x,del_y))*(180./np.pi)\n",
    "        \n",
    "    return c_low, c_high, pos_angle_XY, name_low, name_high"
   ]
  },
  {
   "cell_type": "code",
   "execution_count": 6,
   "metadata": {
    "collapsed": false
   },
   "outputs": [
    {
     "name": "stdout",
     "output_type": "stream",
     "text": [
      "0.496824888934\n",
      "-----------\n",
      "0.555777982607\n",
      "-----------\n",
      "0.585935425754\n",
      "-----------\n",
      "===========\n",
      "===========\n",
      "3\n"
     ]
    }
   ],
   "source": [
    "# find all possible baseline permutations from the stars identified in each dither median\n",
    "\n",
    "baselineNumber = 0 # for counting number of baselines\n",
    "angleRadecMinusXYArray = [] # for collecting angle differences\n",
    "\n",
    "# loop over dither positions\n",
    "for ditherPos in range(0,len(dat.keys())):\n",
    "    \n",
    "    keyName = \"dither_pos_\"+\"%02i\"%ditherPos # key for this dither\n",
    "    parent = dat[keyName][1] # N star names\n",
    "\n",
    "    # list of all combinations of names (no degeneracies)\n",
    "    allCombs = list(itertools.combinations(parent, 2))\n",
    "    #print(allCombs)\n",
    "    \n",
    "    # loop over all baselines (i.e., take N, pick 2)\n",
    "    for baseline in range(0,len(allCombs)):\n",
    "        \n",
    "        \n",
    "        ## find position angle in (x,y) space\n",
    "        \n",
    "        star1name = allCombs[baseline][0]\n",
    "        star2name = allCombs[baseline][1]\n",
    "        \n",
    "        names = np.array(dat[keyName][1][:])\n",
    "        star1elem = int(np.where(names==star1name)[0])\n",
    "        star2elem = int(np.where(names==star2name)[0])\n",
    "        \n",
    "        star1coords_xy = [dat[keyName][2]['[x]'][star1elem],dat[keyName][2]['[y]'][star1elem]]\n",
    "        star2coords_xy = [dat[keyName][2]['[x]'][star2elem],dat[keyName][2]['[y]'][star2elem]]\n",
    "        \n",
    "        # sort according to y-position\n",
    "        coords_low, coords_high, pos_angle_xy, name_low, name_high = order_Y(\n",
    "            star1coords_xy, star2coords_xy, star1name, star2name)\n",
    "        \n",
    "        \n",
    "        ## find position angle in (RA,DEC) space\n",
    "        # note that stars are in same order (which is important if they have nearly equal DEC or y)\n",
    "        \n",
    "        # extract RA, DEC\n",
    "        radecStarElem_low = np.where(df[' shorthand']==' '+name_low)[0] # find element number\n",
    "        radecStarElem_high = np.where(df[' shorthand']==' '+name_high)[0]\n",
    "        raString_low = df[' RA'][radecStarElem_low].values\n",
    "        decString_low = df[' DEC'][radecStarElem_low].values\n",
    "        raString_high = df[' RA'][radecStarElem_high].values\n",
    "        decString_high = df[' DEC'][radecStarElem_high].values\n",
    "        \n",
    "        c_low = SkyCoord(raString_low+decString_low, unit=(u.hourangle, u.deg))\n",
    "        c_high = SkyCoord(raString_high+decString_high, unit=(u.hourangle, u.deg))\n",
    "        pos_angle_radec = c_low.position_angle(c_high).degree[0]\n",
    "        \n",
    "        baselineNumber += 1 # chalk up this baseline to the total\n",
    "        \n",
    "        #print(pos_angle_xy)\n",
    "        #print(pos_angle_radec)\n",
    "        \n",
    "        angleDiff = np.mod(\n",
    "            np.subtract(pos_angle_radec,pos_angle_xy),\n",
    "            360.) # mod is in case one angle is <0 and the other >180\n",
    "        \n",
    "        np.append(angleRadecMinusXYArray,angleDiff) # append del_angle to array\n",
    "        \n",
    "        print(angleDiff) \n",
    "        \n",
    "        print('-----------')\n",
    "        \n",
    "    print('===========')\n",
    "print(baselineNumber)"
   ]
  },
  {
   "cell_type": "code",
   "execution_count": null,
   "metadata": {
    "collapsed": true
   },
   "outputs": [],
   "source": [
    "##################################################################"
   ]
  },
  {
   "cell_type": "code",
   "execution_count": 5,
   "metadata": {
    "collapsed": false
   },
   "outputs": [],
   "source": [
    "# extract RA, DEC for C1/2 and D1\n",
    "\n",
    "chooseStar1 = np.where(df[' shorthand']==' '+dat['dither_pos_00'][1][0])[0]\n",
    "chooseStar2 = np.where(df[' shorthand']==' '+dat['dither_pos_00'][1][2])[0]\n",
    "raString1 = df[' RA'][chooseStar1].values\n",
    "decString1 = df[' DEC'][chooseStar1].values\n",
    "raString2 = df[' RA'][chooseStar2].values\n",
    "decString2 = df[' DEC'][chooseStar2].values"
   ]
  },
  {
   "cell_type": "code",
   "execution_count": 80,
   "metadata": {
    "collapsed": true
   },
   "outputs": [],
   "source": [
    "c_C12 = SkyCoord(raString1+decString1, unit=(u.hourangle, u.deg))\n",
    "c_zeta = SkyCoord(raString2+decString2, unit=(u.hourangle, u.deg))\n",
    "pos_angle_RADEC = c_low.position_angle(c_high).degree"
   ]
  },
  {
   "cell_type": "code",
   "execution_count": 81,
   "metadata": {
    "collapsed": false
   },
   "outputs": [],
   "source": [
    "# fcn for a single baseline\n",
    "\n",
    "def order_DEC():\n",
    "    # determine which object is higher in DEC\n",
    "    if (c_C12.dec > c_zeta.dec):\n",
    "        c_high = c_C12\n",
    "        c_low = c_zeta\n",
    "    else:\n",
    "        c_high = c_zeta\n",
    "        c_low = c_C12\n",
    "        \n",
    "    pos_angle_RADEC = c_low.position_angle(c_high).degree\n",
    "        \n",
    "    return c_low, c_high, pos_angle_RADEC\n"
   ]
  },
  {
   "cell_type": "code",
   "execution_count": 82,
   "metadata": {
    "collapsed": false
   },
   "outputs": [
    {
     "data": {
      "text/plain": [
       "(<SkyCoord (ICRS): (ra, dec) in deg\n",
       "     [( 83.81858417, -5.38968978)]>, <SkyCoord (ICRS): (ra, dec) in deg\n",
       "     [( 83.81977875, -5.38788269)]>, array([ 33.35034613]))"
      ]
     },
     "execution_count": 82,
     "metadata": {},
     "output_type": "execute_result"
    }
   ],
   "source": [
    "order_DEC()"
   ]
  },
  {
   "cell_type": "code",
   "execution_count": 8,
   "metadata": {
    "collapsed": true
   },
   "outputs": [],
   "source": [
    "# fcn for a single baseline\n",
    "'''\n",
    "def order_Y():\n",
    "    # determine which object is higher in y\n",
    "    if (xy_coord[0,1] > xy_coord[2,1]):\n",
    "        c_high = xy_coord[0,:]\n",
    "        c_low = xy_coord[2,:]\n",
    "    else:\n",
    "        c_high = xy_coord[2,:]\n",
    "        c_low = xy_coord[0,:]\n",
    "        \n",
    "    # find angle (in deg)\n",
    "    del_x = -np.subtract(c_high[0],c_low[0]) # minus sign because we want del_x E of N\n",
    "    del_y = np.subtract(c_high[1],c_low[1])\n",
    "    pos_angle_XY = np.arctan(np.divide(del_x,del_y))*(180./np.pi)\n",
    "        \n",
    "    return c_low, c_high, pos_angle_XY\n",
    "'''"
   ]
  },
  {
   "cell_type": "code",
   "execution_count": 7,
   "metadata": {
    "collapsed": false
   },
   "outputs": [],
   "source": [
    "# turn (x,y) dataframe into numpy array\n",
    "xy_coord = np.copy(dat['dither_pos_00'][2])"
   ]
  },
  {
   "cell_type": "code",
   "execution_count": 9,
   "metadata": {
    "collapsed": false
   },
   "outputs": [],
   "source": [
    "angle_RADEC = order_DEC()[2][0]\n",
    "angle_XY = order_Y()[2]"
   ]
  },
  {
   "cell_type": "code",
   "execution_count": 10,
   "metadata": {
    "collapsed": false
   },
   "outputs": [
    {
     "name": "stdout",
     "output_type": "stream",
     "text": [
      "33.3503461335\n",
      "32.7945681509\n",
      "0.555777982607\n"
     ]
    }
   ],
   "source": [
    "print(angle_RADEC)\n",
    "print(angle_XY)\n",
    "print(np.subtract(angle_RADEC,angle_XY))"
   ]
  },
  {
   "cell_type": "markdown",
   "metadata": {},
   "source": [
    "Maire+ 2015 (40 baselines): rotate 0.43 deg W of N\n",
    "2016B (101 baselines): rotate 1.1 deg W of N\n",
    "2017B (1 baseline): (rotate 0.6 deg W of N)"
   ]
  },
  {
   "cell_type": "code",
   "execution_count": 14,
   "metadata": {
    "collapsed": false
   },
   "outputs": [
    {
     "data": {
      "text/plain": [
       "array([ 359.35760981,  962.2084715 ,  969.1675042 ])"
      ]
     },
     "execution_count": 14,
     "metadata": {},
     "output_type": "execute_result"
    }
   ],
   "source": [
    "xy_coord[:,1]"
   ]
  },
  {
   "cell_type": "code",
   "execution_count": 17,
   "metadata": {
    "collapsed": false
   },
   "outputs": [],
   "source": [
    "parent = dat['dither_pos_00'][1]"
   ]
  },
  {
   "cell_type": "code",
   "execution_count": 25,
   "metadata": {
    "collapsed": false
   },
   "outputs": [
    {
     "data": {
      "text/plain": [
       "[[0, 1, 2], ['C1/2', 'D1', 'zeta'],            [x]         [y]\n",
       " 0  1349.179608  359.357610\n",
       " 1   244.937658  962.208471\n",
       " 2   956.265767  969.167504]"
      ]
     },
     "execution_count": 25,
     "metadata": {},
     "output_type": "execute_result"
    }
   ],
   "source": [
    "dat['dither_pos_00']"
   ]
  },
  {
   "cell_type": "code",
   "execution_count": 7,
   "metadata": {
    "collapsed": false
   },
   "outputs": [],
   "source": [
    "# turn (x,y) dataframe into numpy array\n",
    "xy_coord = np.copy(dat['dither_pos_00'][2])"
   ]
  },
  {
   "cell_type": "code",
   "execution_count": 6,
   "metadata": {
    "collapsed": true
   },
   "outputs": [],
   "source": [
    "def order_DEC(c_1,c_2):\n",
    "    # determine which object is higher in DEC\n",
    "    \n",
    "    if (c_1.dec > c_2.dec):\n",
    "        c_high = c_1\n",
    "        c_low = c_2\n",
    "    else:\n",
    "        c_high = c_2\n",
    "        c_low = c_1\n",
    "        \n",
    "    pos_angle_RADEC = c_low.position_angle(c_high).degree\n",
    "        \n",
    "    return c_low, c_high, pos_angle_RADEC"
   ]
  },
  {
   "cell_type": "code",
   "execution_count": 8,
   "metadata": {
    "collapsed": true
   },
   "outputs": [],
   "source": [
    "c1 = SkyCoord(raString1+decString1, unit=(u.hourangle, u.deg))\n",
    "c2 = SkyCoord(raString2+decString2, unit=(u.hourangle, u.deg))"
   ]
  },
  {
   "cell_type": "code",
   "execution_count": 9,
   "metadata": {
    "collapsed": false
   },
   "outputs": [
    {
     "data": {
      "text/plain": [
       "(<SkyCoord (ICRS): (ra, dec) in deg\n",
       "     [( 83.81858417, -5.38968978)]>, <SkyCoord (ICRS): (ra, dec) in deg\n",
       "     [( 83.81977875, -5.38788269)]>, array([ 33.35034613]))"
      ]
     },
     "execution_count": 9,
     "metadata": {},
     "output_type": "execute_result"
    }
   ],
   "source": [
    "order_DEC(c1,c2)"
   ]
  },
  {
   "cell_type": "code",
   "execution_count": 69,
   "metadata": {
    "collapsed": true
   },
   "outputs": [],
   "source": [
    "'''\n",
    "def order_Y(datInput):\n",
    "    \n",
    "    # turn (x,y) dataframe into numpy array\n",
    "    xy_coord = np.copy(datInput[2])\n",
    "    \n",
    "    # determine which object is higher in y\n",
    "    if (xy_coord[0,1] > xy_coord[2,1]):\n",
    "        c_high = xy_coord[0,:]\n",
    "        c_low = xy_coord[2,:]\n",
    "    else:\n",
    "        c_high = xy_coord[2,:]\n",
    "        c_low = xy_coord[0,:]\n",
    "        \n",
    "    # find angle (in deg)\n",
    "    del_x = -np.subtract(c_high[0],c_low[0]) # minus sign because we want del_x E of N\n",
    "    del_y = np.subtract(c_high[1],c_low[1])\n",
    "    pos_angle_XY = np.arctan(np.divide(del_x,del_y))*(180./np.pi)\n",
    "        \n",
    "    return c_low, c_high, pos_angle_XY\n",
    "'''"
   ]
  },
  {
   "cell_type": "code",
   "execution_count": 70,
   "metadata": {
    "collapsed": false
   },
   "outputs": [
    {
     "data": {
      "text/plain": [
       "(array([ 1349.17960809,   359.35760981]),\n",
       " array([ 956.26576679,  969.1675042 ]),\n",
       " 32.794568150893994)"
      ]
     },
     "execution_count": 70,
     "metadata": {},
     "output_type": "execute_result"
    }
   ],
   "source": [
    "order_Y(dat['dither_pos_00'])"
   ]
  },
  {
   "cell_type": "code",
   "execution_count": 72,
   "metadata": {
    "collapsed": false
   },
   "outputs": [
    {
     "data": {
      "text/plain": [
       "array([[ 1349.17960809,   359.35760981],\n",
       "       [  244.93765807,   962.2084715 ],\n",
       "       [  956.26576679,   969.1675042 ]])"
      ]
     },
     "execution_count": 72,
     "metadata": {},
     "output_type": "execute_result"
    }
   ],
   "source": [
    "np.copy(dat['dither_pos_00'][2])"
   ]
  },
  {
   "cell_type": "code",
   "execution_count": 22,
   "metadata": {
    "collapsed": false
   },
   "outputs": [
    {
     "ename": "TypeError",
     "evalue": "list indices must be integers or slices, not tuple",
     "output_type": "error",
     "traceback": [
      "\u001b[1;31m---------------------------------------------------------------------------\u001b[0m",
      "\u001b[1;31mTypeError\u001b[0m                                 Traceback (most recent call last)",
      "\u001b[1;32m<ipython-input-22-5000652bc79a>\u001b[0m in \u001b[0;36m<module>\u001b[1;34m()\u001b[0m\n\u001b[1;32m----> 1\u001b[1;33m \u001b[0mdat\u001b[0m\u001b[1;33m[\u001b[0m\u001b[1;34m'dither_pos_00'\u001b[0m\u001b[1;33m]\u001b[0m\u001b[1;33m[\u001b[0m\u001b[1;36m1\u001b[0m\u001b[1;33m]\u001b[0m\u001b[1;33m[\u001b[0m\u001b[0mnp\u001b[0m\u001b[1;33m.\u001b[0m\u001b[0mwhere\u001b[0m\u001b[1;33m(\u001b[0m\u001b[0mdat\u001b[0m\u001b[1;33m[\u001b[0m\u001b[1;34m'dither_pos_00'\u001b[0m\u001b[1;33m]\u001b[0m\u001b[1;33m[\u001b[0m\u001b[1;36m1\u001b[0m\u001b[1;33m]\u001b[0m\u001b[1;33m[\u001b[0m\u001b[1;33m:\u001b[0m\u001b[1;33m]\u001b[0m\u001b[1;33m==\u001b[0m\u001b[1;34m'D1'\u001b[0m\u001b[1;33m)\u001b[0m\u001b[1;33m]\u001b[0m\u001b[1;33m\u001b[0m\u001b[0m\n\u001b[0m",
      "\u001b[1;31mTypeError\u001b[0m: list indices must be integers or slices, not tuple"
     ]
    }
   ],
   "source": [
    "dat['dither_pos_00'][1][np.where(dat['dither_pos_00'][1][:]=='D1')]"
   ]
  },
  {
   "cell_type": "code",
   "execution_count": 62,
   "metadata": {
    "collapsed": false
   },
   "outputs": [
    {
     "data": {
      "text/plain": [
       "1349.179608092631"
      ]
     },
     "execution_count": 62,
     "metadata": {},
     "output_type": "execute_result"
    }
   ],
   "source": [
    "dat['dither_pos_00'][2]['[x]'][0]"
   ]
  },
  {
   "cell_type": "code",
   "execution_count": 40,
   "metadata": {
    "collapsed": false
   },
   "outputs": [
    {
     "data": {
      "text/plain": [
       "array(['C1/2', 'D1', 'zeta'], \n",
       "      dtype='<U4')"
      ]
     },
     "execution_count": 40,
     "metadata": {},
     "output_type": "execute_result"
    }
   ],
   "source": [
    "test"
   ]
  },
  {
   "cell_type": "code",
   "execution_count": 47,
   "metadata": {
    "collapsed": false
   },
   "outputs": [
    {
     "name": "stdout",
     "output_type": "stream",
     "text": [
      "2\n"
     ]
    }
   ],
   "source": [
    "print(np.where(test=='zeta')[0]"
   ]
  },
  {
   "cell_type": "code",
   "execution_count": 66,
   "metadata": {
    "collapsed": false
   },
   "outputs": [
    {
     "data": {
      "text/plain": [
       "[[0, 1, 2], ['C1/2', 'D1', 'zeta'],            [x]         [y]\n",
       " 0  1349.179608  359.357610\n",
       " 1   244.937658  962.208471\n",
       " 2   956.265767  969.167504]"
      ]
     },
     "execution_count": 66,
     "metadata": {},
     "output_type": "execute_result"
    }
   ],
   "source": [
    "dat['dither_pos_00']"
   ]
  },
  {
   "cell_type": "code",
   "execution_count": 7,
   "metadata": {
    "collapsed": false
   },
   "outputs": [],
   "source": [
    "\n",
    "# turn (x,y) dataframe into numpy array\n",
    "xy_coord = np.copy(dat['dither_pos_00'][2])"
   ]
  },
  {
   "cell_type": "code",
   "execution_count": null,
   "metadata": {
    "collapsed": true
   },
   "outputs": [],
   "source": []
  }
 ],
 "metadata": {
  "kernelspec": {
   "display_name": "Python 3",
   "language": "python",
   "name": "python3"
  },
  "language_info": {
   "codemirror_mode": {
    "name": "ipython",
    "version": 3
   },
   "file_extension": ".py",
   "mimetype": "text/x-python",
   "name": "python",
   "nbconvert_exporter": "python",
   "pygments_lexer": "ipython3",
   "version": "3.5.4"
  }
 },
 "nbformat": 4,
 "nbformat_minor": 0
}
