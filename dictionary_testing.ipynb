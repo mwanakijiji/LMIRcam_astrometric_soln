{
 "cells": [
  {
   "cell_type": "code",
   "execution_count": null,
   "metadata": {
    "collapsed": true
   },
   "outputs": [],
   "source": [
    "# This is a notebook beta test for finding the rotation offset and plate scale of LMIRcam\n",
    "\n",
    "# Saved as .py file, 2017 Dec 13"
   ]
  },
  {
   "cell_type": "code",
   "execution_count": 2,
   "metadata": {
    "collapsed": false
   },
   "outputs": [],
   "source": [
    "import matplotlib\n",
    "import matplotlib.pyplot as plt\n",
    "from matplotlib.dates import DateFormatter\n",
    "import numpy as np\n",
    "import pandas as pd\n",
    "import datetime\n",
    "from astropy.io import fits\n",
    "import asciitable\n",
    "from pathlib import Path\n",
    "import pickle\n",
    "import astropy\n",
    "from astropy import units as u\n",
    "from astropy.coordinates import SkyCoord\n",
    "import math\n",
    "import itertools"
   ]
  },
  {
   "cell_type": "code",
   "execution_count": 3,
   "metadata": {
    "collapsed": true
   },
   "outputs": [],
   "source": [
    "# set file paths and datasets\n",
    "\n",
    "dirTreeStem = ('/home/../../media/unasemaje/Seagate Expansion Drive/lbti_data_reduction/'\n",
    "               'lmircam_astrometry/ut_2017_11_06/asterism/processedData/')\n",
    "retrievalPiece = ('step03_derotate/')\n",
    "depositPiece = ('step04_ditherMedians/')\n",
    "fileNameStem = ('lm_171106_')"
   ]
  },
  {
   "cell_type": "code",
   "execution_count": 4,
   "metadata": {
    "collapsed": true
   },
   "outputs": [],
   "source": [
    "picklefile = 'identified_stars_171106.p'\n",
    "fo1=open(picklefile,'rb')\n",
    "dat=pickle.load(fo1)\n",
    "fo1.close()"
   ]
  },
  {
   "cell_type": "code",
   "execution_count": 5,
   "metadata": {
    "collapsed": true
   },
   "outputs": [],
   "source": [
    "# read in text file\n",
    "\n",
    "df = pd.read_csv('star_ra_dec_list.csv')"
   ]
  },
  {
   "cell_type": "code",
   "execution_count": 6,
   "metadata": {
    "collapsed": true
   },
   "outputs": [],
   "source": [
    "def order_Y(star1input, star2input, star1nameInput, star2nameInput):\n",
    "    \n",
    "    # determine which object is higher in y\n",
    "    if (star1input[1] > star2input[1]):\n",
    "        c_high = star1input\n",
    "        c_low = star2input\n",
    "        name_high = star1nameInput\n",
    "        name_low = star2nameInput\n",
    "    else:\n",
    "        c_high = star2input\n",
    "        c_low = star1input\n",
    "        name_high = star2nameInput\n",
    "        name_low = star1nameInput\n",
    "        \n",
    "    # find position angle (in deg E of N)\n",
    "    del_x = -np.subtract(c_high[0],c_low[0]) # minus sign because we want del_x E of N\n",
    "    del_y = np.subtract(c_high[1],c_low[1])\n",
    "    pos_angle_XY = np.arctan(np.divide(del_x,del_y))*(180./np.pi)\n",
    "        \n",
    "    return c_low, c_high, pos_angle_XY, name_low, name_high"
   ]
  },
  {
   "cell_type": "code",
   "execution_count": 17,
   "metadata": {
    "collapsed": false
   },
   "outputs": [],
   "source": [
    "# find all possible baseline permutations from the stars identified in each dither median\n",
    "\n",
    "baselineNumber = 0 # for counting number of baselines\n",
    "angleRadecMinusXYArray = [] # for collecting angle differences\n",
    "plateScaleArray = [] # for collecting plate scale measurements\n",
    "\n",
    "# loop over dither positions\n",
    "for ditherPos in range(0,len(dat.keys())):\n",
    "        \n",
    "    keyName = \"dither_pos_\"+\"%02i\"%ditherPos # key for this dither\n",
    "    parent = dat[keyName][1] # N star names\n",
    "\n",
    "    # list of all combinations of names (no degeneracies)\n",
    "    allCombs = list(itertools.combinations(parent, 2))\n",
    "    \n",
    "    # loop over all baselines (i.e., take N, pick 2)\n",
    "    for baseline in range(0,len(allCombs)):\n",
    "        \n",
    "        \n",
    "        ## find position angle and distance in (x,y) space\n",
    "        \n",
    "        # retrieve x, y\n",
    "        star1name = allCombs[baseline][0]\n",
    "        star2name = allCombs[baseline][1]\n",
    "        \n",
    "        names = np.array(dat[keyName][1][:])\n",
    "        star1elem = int(np.where(names==star1name)[0]) # element number in names array\n",
    "        star2elem = int(np.where(names==star2name)[0])\n",
    "        \n",
    "        star1elem_2 = dat[keyName][0][star1elem]\n",
    "        star2elem_2 = dat[keyName][0][star2elem]\n",
    "        \n",
    "        star1coords_xy = [dat[keyName][2]['[x]'][star1elem_2],dat[keyName][2]['[y]'][star1elem_2]]\n",
    "        star2coords_xy = [dat[keyName][2]['[x]'][star2elem_2],dat[keyName][2]['[y]'][star2elem_2]]\n",
    "\n",
    "        # sort according to y-position\n",
    "        coords_low, coords_high, pos_angle_xy, name_low, name_high = order_Y(\n",
    "            star1coords_xy, star2coords_xy, star1name, star2name)\n",
    "        \n",
    "        # find distance between the two stars\n",
    "        del_y = np.subtract(coords_high[1],coords_low[1])\n",
    "        del_x = np.subtract(coords_high[0],coords_low[0])\n",
    "        dist_xy = np.sqrt(np.power(del_x,2)+np.power(del_y,2))\n",
    "        \n",
    "        \n",
    "        ## find position angle in (RA,DEC) space\n",
    "        # (note that stars are in same order, which is important if they have nearly equal DEC or y)\n",
    "        \n",
    "        # retrieve RA, DEC\n",
    "        radecStarElem_low = np.where(df[' shorthand']==' '+name_low)[0] # find element number\n",
    "        radecStarElem_high = np.where(df[' shorthand']==' '+name_high)[0]\n",
    "        raString_low = df[' RA'][radecStarElem_low].values\n",
    "        decString_low = df[' DEC'][radecStarElem_low].values\n",
    "        raString_high = df[' RA'][radecStarElem_high].values\n",
    "        decString_high = df[' DEC'][radecStarElem_high].values\n",
    "        \n",
    "        c_low = SkyCoord(raString_low+decString_low, unit=(u.hourangle, u.deg))\n",
    "        c_high = SkyCoord(raString_high+decString_high, unit=(u.hourangle, u.deg))\n",
    "        pos_angle_radec = c_low.position_angle(c_high).degree[0]\n",
    "        sep_radec = c_low.separation(c_high).arcsec[0] # separation in asec\n",
    "        \n",
    "        baselineNumber += 1 # chalk up this baseline to the total\n",
    "        \n",
    "        # how much further E of W is the position angle from (RA,DEC) than (x,y)?\n",
    "        angleDiff_1 = np.subtract(pos_angle_radec,pos_angle_xy)\n",
    "        \n",
    "        if (angleDiff_1 > 0): # if x,y angle opens further E of N than the RA,DEC angle\n",
    "            angleDiff = np.mod(\n",
    "                angleDiff_1,\n",
    "                360.) # mod is in case one angle is <0 and the other >180\n",
    "        else: # if difference between x,y angle and RA,DEC angle is negative\n",
    "            angleDiff = np.copy(angleDiff_1)\n",
    "            \n",
    "        # array of plate scale measurements\n",
    "                \n",
    "        angleRadecMinusXYArray = np.append(angleRadecMinusXYArray,angleDiff) # append del_angle to array\n",
    "        plateScaleArray = np.append(plateScaleArray,1000.*np.divide(sep_radec,dist_xy)) # append plate scale (mas/pix)"
   ]
  },
  {
   "cell_type": "code",
   "execution_count": 19,
   "metadata": {
    "collapsed": false
   },
   "outputs": [],
   "source": [
    "# make CDFs\n",
    "\n",
    "# of angular offsets\n",
    "angleDiffArraySorted = sorted(angleRadecMinusXYArray)\n",
    "angleDiff_csf = np.cumsum(angleDiffArraySorted).astype(\"float32\")\n",
    "angleDiff_csf_norm = np.divide(angleDiff_csf,np.max(angleDiff_csf))\n",
    "\n",
    "# of plate scales\n",
    "plateScaleArraySorted = sorted(plateScaleArray)\n",
    "plateScale_csf = np.cumsum(plateScaleArraySorted).astype(\"float32\")\n",
    "plateScale_csf_norm = np.divide(plateScale_csf,np.max(plateScale_csf))"
   ]
  },
  {
   "cell_type": "code",
   "execution_count": 20,
   "metadata": {
    "collapsed": true
   },
   "outputs": [],
   "source": [
    "# find median, +- sigma values\n",
    "\n",
    "# of angular offsets\n",
    "angleDiff_negSigmaPercentile = np.percentile(angleRadecMinusXYArray,15.9)\n",
    "angleDiff_50Percentile = np.percentile(angleRadecMinusXYArray,50)\n",
    "angleDiff_posSigmaPercentile = np.percentile(angleRadecMinusXYArray,84.1)\n",
    "\n",
    "# of plate scales\n",
    "plateScale_negSigmaPercentile = np.percentile(plateScaleArray,15.9)\n",
    "plateScale_50Percentile = np.percentile(plateScaleArray,50)\n",
    "plateScale_posSigmaPercentile = np.percentile(plateScaleArray,84.1)"
   ]
  },
  {
   "cell_type": "code",
   "execution_count": 26,
   "metadata": {
    "collapsed": false
   },
   "outputs": [],
   "source": [
    "# plot rotation angle\n",
    "\n",
    "fig = plt.figure()\n",
    "ax = fig.add_subplot(111)\n",
    "ax.axvline(x=angleDiff_negSigmaPercentile,linestyle='--',color='k')\n",
    "ax.axvline(x=angleDiff_50Percentile,linestyle='-',color='k')\n",
    "ax.axvline(x=angleDiff_posSigmaPercentile,linestyle='--',color='k')\n",
    "ax.scatter(angleDiffArraySorted, angleDiff_csf_norm)\n",
    "string1 = '{0:.3f}'.format(angleDiff_50Percentile)\n",
    "string2 = '{0:.3f}'.format(np.subtract(angleDiff_posSigmaPercentile,angleDiff_50Percentile))\n",
    "string3 = '{0:.3f}'.format(np.subtract(angleDiff_50Percentile,angleDiff_negSigmaPercentile))\n",
    "ax.text(0.8, 0.1,s='Need to rotate array E of N:\\n'+string1+'/+'+string2+'/-'+string3+' deg\\n\\nStellar baselines:\\n'+str(baselineNumber))\n",
    "plt.title('CDF of difference (E of N) between (RA, DEC) and (x, y) position angles on LMIRcam')\n",
    "plt.xlabel('Degrees E of N')\n",
    "plt.ylabel('Normalized CDF')\n",
    "plt.show()"
   ]
  },
  {
   "cell_type": "code",
   "execution_count": 27,
   "metadata": {
    "collapsed": false
   },
   "outputs": [],
   "source": [
    "# plot plate scale\n",
    "\n",
    "fig = plt.figure()\n",
    "ax = fig.add_subplot(111)\n",
    "ax.axvline(x=plateScale_negSigmaPercentile,linestyle='--',color='k')\n",
    "ax.axvline(x=plateScale_50Percentile,linestyle='-',color='k')\n",
    "ax.axvline(x=plateScale_posSigmaPercentile,linestyle='--',color='k')\n",
    "ax.scatter(plateScaleArraySorted, plateScale_csf_norm)\n",
    "string4 = '{0:.3f}'.format(plateScale_50Percentile)\n",
    "string5 = '{0:.3f}'.format(np.subtract(plateScale_posSigmaPercentile,plateScale_50Percentile))\n",
    "string6 = '{0:.3f}'.format(np.subtract(plateScale_50Percentile,plateScale_negSigmaPercentile))\n",
    "ax.text(10.4, 0.8,s='Plate scale:\\n'+string4+'/+'+string5+'/-'+string6+' mas/pix\\n\\nStellar baselines:\\n'+str(baselineNumber))\n",
    "plt.title('Plate scale of LMIRcam')\n",
    "plt.xlabel('PS (mas/pix)')\n",
    "plt.ylabel('Normalized CDF')\n",
    "plt.show()"
   ]
  },
  {
   "cell_type": "code",
   "execution_count": 28,
   "metadata": {
    "collapsed": false
   },
   "outputs": [
    {
     "name": "stdout",
     "output_type": "stream",
     "text": [
      "------------------------------\n",
      "Number of baselines:\n",
      "227\n",
      "------------------------------\n",
      "Need to rotate array E of N:\n",
      "0.530/+0.100/-0.116 deg\n",
      "------------------------------\n",
      "Plate scale:\n",
      "10.657/+0.029/-0.022 mas/pix\n"
     ]
    }
   ],
   "source": [
    "print('------------------------------')\n",
    "print('Number of baselines:')\n",
    "print(baselineNumber)\n",
    "print('------------------------------')\n",
    "print('Need to rotate array E of N:\\n'+string1+'/+'+string2+'/-'+string3+' deg')\n",
    "print('------------------------------')\n",
    "print('Plate scale:')\n",
    "print(string4+'/+'+string5+'/-'+string6+' mas/pix')"
   ]
  },
  {
   "cell_type": "code",
   "execution_count": null,
   "metadata": {
    "collapsed": true
   },
   "outputs": [],
   "source": [
    "##################################################################"
   ]
  }
 ],
 "metadata": {
  "kernelspec": {
   "display_name": "Python 3",
   "language": "python",
   "name": "python3"
  },
  "language_info": {
   "codemirror_mode": {
    "name": "ipython",
    "version": 3
   },
   "file_extension": ".py",
   "mimetype": "text/x-python",
   "name": "python",
   "nbconvert_exporter": "python",
   "pygments_lexer": "ipython3",
   "version": "3.5.4"
  }
 },
 "nbformat": 4,
 "nbformat_minor": 0
}
