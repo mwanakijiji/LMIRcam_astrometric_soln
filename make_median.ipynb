{
 "cells": [
  {
   "cell_type": "code",
   "execution_count": null,
   "metadata": {
    "collapsed": true
   },
   "outputs": [],
   "source": [
    "# This makes a simple cube of FITS files, so as to inspect images en masse with DS9\n",
    "# ... or makes a median of them\n",
    "\n",
    "# created 2017 Nov 19 by E.S."
   ]
  },
  {
   "cell_type": "code",
   "execution_count": 18,
   "metadata": {
    "collapsed": false
   },
   "outputs": [],
   "source": [
    "import matplotlib\n",
    "import matplotlib.pyplot as plt\n",
    "from matplotlib.dates import DateFormatter\n",
    "import numpy as np\n",
    "import pandas as pd\n",
    "import datetime\n",
    "from astropy.io import fits\n",
    "import asciitable\n",
    "from pathlib import Path\n",
    "import glob\n",
    "import scipy\n",
    "import os\n",
    "from scipy.ndimage import gaussian_filter\n",
    "from astropy.convolution import convolve, Gaussian1DKernel, interpolate_replace_nans\n",
    "from lmircam_tools import process_readout"
   ]
  },
  {
   "cell_type": "code",
   "execution_count": 12,
   "metadata": {
    "collapsed": true
   },
   "outputs": [],
   "source": [
    "# set file paths and datasets\n",
    "\n",
    "dirTreeStem = ('./asterism/processedData/raw_data/')\n",
    "png_stem = ('/Volumes/seagate_external_drive/lbti_data_reduction/'\n",
    "               '181224_trapezium/pngs/')\n",
    "medians_stem = ('/Volumes/seagate_external_drive/lbti_data_reduction/'\n",
    "               '181224_trapezium/medians/')"
   ]
  },
  {
   "cell_type": "code",
   "execution_count": 13,
   "metadata": {
    "collapsed": true
   },
   "outputs": [],
   "source": [
    "trapezium_files = glob.glob(dirTreeStem + \"*fits\")"
   ]
  },
  {
   "cell_type": "code",
   "execution_count": 14,
   "metadata": {
    "collapsed": false
   },
   "outputs": [
    {
     "data": {
      "text/plain": [
       "['./asterism/processedData/raw_data/SX_half_moondither_10.fits',\n",
       " './asterism/processedData/raw_data/DX_half_moondither_14.fits',\n",
       " './asterism/processedData/raw_data/DX_half_moondither_02.fits',\n",
       " './asterism/processedData/raw_data/SX_half_moondither_06.fits',\n",
       " './asterism/processedData/raw_data/SX_half_moondither_07.fits',\n",
       " './asterism/processedData/raw_data/DX_half_moondither_03.fits',\n",
       " './asterism/processedData/raw_data/DX_half_moondither_15.fits',\n",
       " './asterism/processedData/raw_data/SX_half_moondither_11.fits',\n",
       " './asterism/processedData/raw_data/DX_half_moondither_08.fits',\n",
       " './asterism/processedData/raw_data/SX_half_moondither_16.fits',\n",
       " './asterism/processedData/raw_data/DX_half_moondither_12.fits',\n",
       " './asterism/processedData/raw_data/DX_half_moondither_04.fits',\n",
       " './asterism/processedData/raw_data/SX_half_moondither_01.fits',\n",
       " './asterism/processedData/raw_data/DX_half_moondither_05.fits',\n",
       " './asterism/processedData/raw_data/DX_half_moondither_13.fits',\n",
       " './asterism/processedData/raw_data/DX_half_moondither_09.fits',\n",
       " './asterism/processedData/raw_data/SX_half_moondither_02.fits',\n",
       " './asterism/processedData/raw_data/DX_half_moondither_06.fits',\n",
       " './asterism/processedData/raw_data/DX_half_moondither_10.fits',\n",
       " './asterism/processedData/raw_data/SX_half_moondither_14.fits',\n",
       " './asterism/processedData/raw_data/SX_half_moondither_15.fits',\n",
       " './asterism/processedData/raw_data/DX_half_moondither_11.fits',\n",
       " './asterism/processedData/raw_data/DX_half_moondither_07.fits',\n",
       " './asterism/processedData/raw_data/SX_half_moondither_03.fits',\n",
       " './asterism/processedData/raw_data/SX_half_moondither_04.fits',\n",
       " './asterism/processedData/raw_data/DX_half_moondither_16.fits',\n",
       " './asterism/processedData/raw_data/SX_half_moondither_12.fits',\n",
       " './asterism/processedData/raw_data/SX_half_moondither_08.fits',\n",
       " './asterism/processedData/raw_data/SX_half_moondither_09.fits',\n",
       " './asterism/processedData/raw_data/SX_half_moondither_13.fits',\n",
       " './asterism/processedData/raw_data/DX_half_moondither_01.fits',\n",
       " './asterism/processedData/raw_data/SX_half_moondither_05.fits']"
      ]
     },
     "execution_count": 14,
     "metadata": {},
     "output_type": "execute_result"
    }
   ],
   "source": [
    "trapezium_files"
   ]
  },
  {
   "cell_type": "code",
   "execution_count": 72,
   "metadata": {
    "collapsed": true
   },
   "outputs": [],
   "source": [
    "def make_pngs(file_list):\n",
    "    '''\n",
    "    Make a bunch of PNGs, to make inspection easier\n",
    "    '''\n",
    "    for t in file_list:\n",
    "        \n",
    "        print(t)\n",
    "        \n",
    "        img, header = fits.getdata(t,0,header=True)\n",
    "        \n",
    "        if (t == file_list[0]):\n",
    "            dark2d = np.copy(img[1])\n",
    "        \n",
    "        '''\n",
    "        print(np.shape(np.tile(np.median(img[1], axis = 0), reps=2048)))\n",
    "        plt.imshow(np.tile(np.median(img[1], axis = 0), reps=2048))\n",
    "        plt.show()\n",
    "        # dark vector \n",
    "        dark1d = np.median(img[1], axis = 0)\n",
    "        dark2d = np.tile(dark1d,2048)\n",
    "        #dark2d = np.repeat(dark1d.flatten(), np.shape(img[1]), axis = 0)\n",
    "        '''\n",
    "        \n",
    "        # subtract ersatz dark\n",
    "        sci_img = np.subtract(img[1], dark2d)\n",
    "        \n",
    "        sci_img = gaussian_filter(sci_img, sigma=5)\n",
    "        \n",
    "        plt.clf()\n",
    "        plt.imshow(sci_img, origin=\"lower\")\n",
    "        plt.colorbar()\n",
    "        plt.savefig(png_stem + os.path.basename(t).split(\".\")[0] + \".png\", overwrite=True)\n",
    "        plt.clf()"
   ]
  },
  {
   "cell_type": "code",
   "execution_count": 83,
   "metadata": {
    "collapsed": false
   },
   "outputs": [
    {
     "data": {
      "text/plain": [
       "'/Volumes/seagate_external_drive/lbti_data_reduction/181224_trapezium/raw_data/lm_181224_001262.fits'"
      ]
     },
     "execution_count": 83,
     "metadata": {},
     "output_type": "execute_result"
    }
   ],
   "source": [
    "trapezium_files[159]"
   ]
  },
  {
   "cell_type": "code",
   "execution_count": 84,
   "metadata": {
    "collapsed": false
   },
   "outputs": [
    {
     "name": "stdout",
     "output_type": "stream",
     "text": [
      "/Volumes/seagate_external_drive/lbti_data_reduction/181224_trapezium/raw_data/lm_181224_001262.fits\n",
      "/Volumes/seagate_external_drive/lbti_data_reduction/181224_trapezium/raw_data/lm_181224_001263.fits\n",
      "/Volumes/seagate_external_drive/lbti_data_reduction/181224_trapezium/raw_data/lm_181224_001264.fits\n",
      "/Volumes/seagate_external_drive/lbti_data_reduction/181224_trapezium/raw_data/lm_181224_001265.fits\n",
      "/Volumes/seagate_external_drive/lbti_data_reduction/181224_trapezium/raw_data/lm_181224_001266.fits\n",
      "/Volumes/seagate_external_drive/lbti_data_reduction/181224_trapezium/raw_data/lm_181224_001267.fits\n",
      "/Volumes/seagate_external_drive/lbti_data_reduction/181224_trapezium/raw_data/lm_181224_001268.fits\n",
      "/Volumes/seagate_external_drive/lbti_data_reduction/181224_trapezium/raw_data/lm_181224_001269.fits\n",
      "/Volumes/seagate_external_drive/lbti_data_reduction/181224_trapezium/raw_data/lm_181224_001270.fits\n",
      "/Volumes/seagate_external_drive/lbti_data_reduction/181224_trapezium/raw_data/lm_181224_001271.fits\n",
      "/Volumes/seagate_external_drive/lbti_data_reduction/181224_trapezium/raw_data/lm_181224_001272.fits\n",
      "/Volumes/seagate_external_drive/lbti_data_reduction/181224_trapezium/raw_data/lm_181224_001273.fits\n",
      "/Volumes/seagate_external_drive/lbti_data_reduction/181224_trapezium/raw_data/lm_181224_001274.fits\n",
      "/Volumes/seagate_external_drive/lbti_data_reduction/181224_trapezium/raw_data/lm_181224_001275.fits\n",
      "/Volumes/seagate_external_drive/lbti_data_reduction/181224_trapezium/raw_data/lm_181224_001276.fits\n",
      "/Volumes/seagate_external_drive/lbti_data_reduction/181224_trapezium/raw_data/lm_181224_001277.fits\n",
      "/Volumes/seagate_external_drive/lbti_data_reduction/181224_trapezium/raw_data/lm_181224_001278.fits\n",
      "/Volumes/seagate_external_drive/lbti_data_reduction/181224_trapezium/raw_data/lm_181224_001279.fits\n",
      "/Volumes/seagate_external_drive/lbti_data_reduction/181224_trapezium/raw_data/lm_181224_001280.fits\n",
      "/Volumes/seagate_external_drive/lbti_data_reduction/181224_trapezium/raw_data/lm_181224_001281.fits\n",
      "/Volumes/seagate_external_drive/lbti_data_reduction/181224_trapezium/raw_data/lm_181224_001282.fits\n",
      "/Volumes/seagate_external_drive/lbti_data_reduction/181224_trapezium/raw_data/lm_181224_001283.fits\n",
      "/Volumes/seagate_external_drive/lbti_data_reduction/181224_trapezium/raw_data/lm_181224_001284.fits\n",
      "/Volumes/seagate_external_drive/lbti_data_reduction/181224_trapezium/raw_data/lm_181224_001285.fits\n",
      "/Volumes/seagate_external_drive/lbti_data_reduction/181224_trapezium/raw_data/lm_181224_001286.fits\n",
      "/Volumes/seagate_external_drive/lbti_data_reduction/181224_trapezium/raw_data/lm_181224_001287.fits\n",
      "/Volumes/seagate_external_drive/lbti_data_reduction/181224_trapezium/raw_data/lm_181224_001288.fits\n",
      "/Volumes/seagate_external_drive/lbti_data_reduction/181224_trapezium/raw_data/lm_181224_001289.fits\n",
      "/Volumes/seagate_external_drive/lbti_data_reduction/181224_trapezium/raw_data/lm_181224_001290.fits\n",
      "/Volumes/seagate_external_drive/lbti_data_reduction/181224_trapezium/raw_data/lm_181224_001291.fits\n",
      "/Volumes/seagate_external_drive/lbti_data_reduction/181224_trapezium/raw_data/lm_181224_001292.fits\n",
      "/Volumes/seagate_external_drive/lbti_data_reduction/181224_trapezium/raw_data/lm_181224_001293.fits\n",
      "/Volumes/seagate_external_drive/lbti_data_reduction/181224_trapezium/raw_data/lm_181224_001294.fits\n",
      "/Volumes/seagate_external_drive/lbti_data_reduction/181224_trapezium/raw_data/lm_181224_001295.fits\n",
      "/Volumes/seagate_external_drive/lbti_data_reduction/181224_trapezium/raw_data/lm_181224_001296.fits\n",
      "/Volumes/seagate_external_drive/lbti_data_reduction/181224_trapezium/raw_data/lm_181224_001297.fits\n",
      "/Volumes/seagate_external_drive/lbti_data_reduction/181224_trapezium/raw_data/lm_181224_001298.fits\n",
      "/Volumes/seagate_external_drive/lbti_data_reduction/181224_trapezium/raw_data/lm_181224_001299.fits\n",
      "/Volumes/seagate_external_drive/lbti_data_reduction/181224_trapezium/raw_data/lm_181224_001300.fits\n",
      "/Volumes/seagate_external_drive/lbti_data_reduction/181224_trapezium/raw_data/lm_181224_001301.fits\n",
      "/Volumes/seagate_external_drive/lbti_data_reduction/181224_trapezium/raw_data/lm_181224_001302.fits\n",
      "/Volumes/seagate_external_drive/lbti_data_reduction/181224_trapezium/raw_data/lm_181224_001303.fits\n",
      "/Volumes/seagate_external_drive/lbti_data_reduction/181224_trapezium/raw_data/lm_181224_001304.fits\n",
      "/Volumes/seagate_external_drive/lbti_data_reduction/181224_trapezium/raw_data/lm_181224_001305.fits\n",
      "/Volumes/seagate_external_drive/lbti_data_reduction/181224_trapezium/raw_data/lm_181224_001306.fits\n",
      "/Volumes/seagate_external_drive/lbti_data_reduction/181224_trapezium/raw_data/lm_181224_001307.fits\n",
      "/Volumes/seagate_external_drive/lbti_data_reduction/181224_trapezium/raw_data/lm_181224_001308.fits\n",
      "/Volumes/seagate_external_drive/lbti_data_reduction/181224_trapezium/raw_data/lm_181224_001309.fits\n",
      "/Volumes/seagate_external_drive/lbti_data_reduction/181224_trapezium/raw_data/lm_181224_001310.fits\n",
      "/Volumes/seagate_external_drive/lbti_data_reduction/181224_trapezium/raw_data/lm_181224_001311.fits\n",
      "/Volumes/seagate_external_drive/lbti_data_reduction/181224_trapezium/raw_data/lm_181224_001312.fits\n",
      "/Volumes/seagate_external_drive/lbti_data_reduction/181224_trapezium/raw_data/lm_181224_001313.fits\n",
      "/Volumes/seagate_external_drive/lbti_data_reduction/181224_trapezium/raw_data/lm_181224_001314.fits\n",
      "/Volumes/seagate_external_drive/lbti_data_reduction/181224_trapezium/raw_data/lm_181224_001315.fits\n",
      "/Volumes/seagate_external_drive/lbti_data_reduction/181224_trapezium/raw_data/lm_181224_001316.fits\n",
      "/Volumes/seagate_external_drive/lbti_data_reduction/181224_trapezium/raw_data/lm_181224_001317.fits\n",
      "/Volumes/seagate_external_drive/lbti_data_reduction/181224_trapezium/raw_data/lm_181224_001318.fits\n",
      "/Volumes/seagate_external_drive/lbti_data_reduction/181224_trapezium/raw_data/lm_181224_001319.fits\n",
      "/Volumes/seagate_external_drive/lbti_data_reduction/181224_trapezium/raw_data/lm_181224_001320.fits\n",
      "/Volumes/seagate_external_drive/lbti_data_reduction/181224_trapezium/raw_data/lm_181224_001321.fits\n",
      "/Volumes/seagate_external_drive/lbti_data_reduction/181224_trapezium/raw_data/lm_181224_001322.fits\n",
      "/Volumes/seagate_external_drive/lbti_data_reduction/181224_trapezium/raw_data/lm_181224_001323.fits\n",
      "/Volumes/seagate_external_drive/lbti_data_reduction/181224_trapezium/raw_data/lm_181224_001324.fits\n",
      "/Volumes/seagate_external_drive/lbti_data_reduction/181224_trapezium/raw_data/lm_181224_001325.fits\n",
      "/Volumes/seagate_external_drive/lbti_data_reduction/181224_trapezium/raw_data/lm_181224_001326.fits\n",
      "/Volumes/seagate_external_drive/lbti_data_reduction/181224_trapezium/raw_data/lm_181224_001327.fits\n",
      "/Volumes/seagate_external_drive/lbti_data_reduction/181224_trapezium/raw_data/lm_181224_001328.fits\n",
      "/Volumes/seagate_external_drive/lbti_data_reduction/181224_trapezium/raw_data/lm_181224_001329.fits\n",
      "/Volumes/seagate_external_drive/lbti_data_reduction/181224_trapezium/raw_data/lm_181224_001330.fits\n",
      "/Volumes/seagate_external_drive/lbti_data_reduction/181224_trapezium/raw_data/lm_181224_001331.fits\n",
      "/Volumes/seagate_external_drive/lbti_data_reduction/181224_trapezium/raw_data/lm_181224_001332.fits\n",
      "/Volumes/seagate_external_drive/lbti_data_reduction/181224_trapezium/raw_data/lm_181224_001333.fits\n",
      "/Volumes/seagate_external_drive/lbti_data_reduction/181224_trapezium/raw_data/lm_181224_001334.fits\n",
      "/Volumes/seagate_external_drive/lbti_data_reduction/181224_trapezium/raw_data/lm_181224_001335.fits\n",
      "/Volumes/seagate_external_drive/lbti_data_reduction/181224_trapezium/raw_data/lm_181224_001336.fits\n",
      "/Volumes/seagate_external_drive/lbti_data_reduction/181224_trapezium/raw_data/lm_181224_001337.fits\n",
      "/Volumes/seagate_external_drive/lbti_data_reduction/181224_trapezium/raw_data/lm_181224_001338.fits\n",
      "/Volumes/seagate_external_drive/lbti_data_reduction/181224_trapezium/raw_data/lm_181224_001339.fits\n",
      "/Volumes/seagate_external_drive/lbti_data_reduction/181224_trapezium/raw_data/lm_181224_001340.fits\n",
      "/Volumes/seagate_external_drive/lbti_data_reduction/181224_trapezium/raw_data/lm_181224_001341.fits\n",
      "/Volumes/seagate_external_drive/lbti_data_reduction/181224_trapezium/raw_data/lm_181224_001342.fits\n",
      "/Volumes/seagate_external_drive/lbti_data_reduction/181224_trapezium/raw_data/lm_181224_001343.fits\n",
      "/Volumes/seagate_external_drive/lbti_data_reduction/181224_trapezium/raw_data/lm_181224_001344.fits\n",
      "/Volumes/seagate_external_drive/lbti_data_reduction/181224_trapezium/raw_data/lm_181224_001345.fits\n",
      "/Volumes/seagate_external_drive/lbti_data_reduction/181224_trapezium/raw_data/lm_181224_001346.fits\n",
      "/Volumes/seagate_external_drive/lbti_data_reduction/181224_trapezium/raw_data/lm_181224_001347.fits\n",
      "/Volumes/seagate_external_drive/lbti_data_reduction/181224_trapezium/raw_data/lm_181224_001348.fits\n",
      "/Volumes/seagate_external_drive/lbti_data_reduction/181224_trapezium/raw_data/lm_181224_001349.fits\n",
      "/Volumes/seagate_external_drive/lbti_data_reduction/181224_trapezium/raw_data/lm_181224_001350.fits\n",
      "/Volumes/seagate_external_drive/lbti_data_reduction/181224_trapezium/raw_data/lm_181224_001351.fits\n",
      "/Volumes/seagate_external_drive/lbti_data_reduction/181224_trapezium/raw_data/lm_181224_001352.fits\n",
      "/Volumes/seagate_external_drive/lbti_data_reduction/181224_trapezium/raw_data/lm_181224_001353.fits\n",
      "/Volumes/seagate_external_drive/lbti_data_reduction/181224_trapezium/raw_data/lm_181224_001354.fits\n",
      "/Volumes/seagate_external_drive/lbti_data_reduction/181224_trapezium/raw_data/lm_181224_001355.fits\n",
      "/Volumes/seagate_external_drive/lbti_data_reduction/181224_trapezium/raw_data/lm_181224_001356.fits\n",
      "/Volumes/seagate_external_drive/lbti_data_reduction/181224_trapezium/raw_data/lm_181224_001357.fits\n",
      "/Volumes/seagate_external_drive/lbti_data_reduction/181224_trapezium/raw_data/lm_181224_001358.fits\n",
      "/Volumes/seagate_external_drive/lbti_data_reduction/181224_trapezium/raw_data/lm_181224_001359.fits\n",
      "/Volumes/seagate_external_drive/lbti_data_reduction/181224_trapezium/raw_data/lm_181224_001360.fits\n",
      "/Volumes/seagate_external_drive/lbti_data_reduction/181224_trapezium/raw_data/lm_181224_001361.fits\n",
      "/Volumes/seagate_external_drive/lbti_data_reduction/181224_trapezium/raw_data/lm_181224_001362.fits\n",
      "/Volumes/seagate_external_drive/lbti_data_reduction/181224_trapezium/raw_data/lm_181224_001363.fits\n",
      "/Volumes/seagate_external_drive/lbti_data_reduction/181224_trapezium/raw_data/lm_181224_001364.fits\n",
      "/Volumes/seagate_external_drive/lbti_data_reduction/181224_trapezium/raw_data/lm_181224_001365.fits\n",
      "/Volumes/seagate_external_drive/lbti_data_reduction/181224_trapezium/raw_data/lm_181224_001366.fits\n",
      "/Volumes/seagate_external_drive/lbti_data_reduction/181224_trapezium/raw_data/lm_181224_001367.fits\n",
      "/Volumes/seagate_external_drive/lbti_data_reduction/181224_trapezium/raw_data/lm_181224_001368.fits\n",
      "/Volumes/seagate_external_drive/lbti_data_reduction/181224_trapezium/raw_data/lm_181224_001369.fits\n",
      "/Volumes/seagate_external_drive/lbti_data_reduction/181224_trapezium/raw_data/lm_181224_001370.fits\n",
      "/Volumes/seagate_external_drive/lbti_data_reduction/181224_trapezium/raw_data/lm_181224_001371.fits\n",
      "/Volumes/seagate_external_drive/lbti_data_reduction/181224_trapezium/raw_data/lm_181224_001372.fits\n",
      "/Volumes/seagate_external_drive/lbti_data_reduction/181224_trapezium/raw_data/lm_181224_001373.fits\n",
      "/Volumes/seagate_external_drive/lbti_data_reduction/181224_trapezium/raw_data/lm_181224_001374.fits\n",
      "/Volumes/seagate_external_drive/lbti_data_reduction/181224_trapezium/raw_data/lm_181224_001375.fits\n",
      "/Volumes/seagate_external_drive/lbti_data_reduction/181224_trapezium/raw_data/lm_181224_001376.fits\n",
      "/Volumes/seagate_external_drive/lbti_data_reduction/181224_trapezium/raw_data/lm_181224_001377.fits\n",
      "/Volumes/seagate_external_drive/lbti_data_reduction/181224_trapezium/raw_data/lm_181224_001378.fits\n",
      "/Volumes/seagate_external_drive/lbti_data_reduction/181224_trapezium/raw_data/lm_181224_001379.fits\n",
      "/Volumes/seagate_external_drive/lbti_data_reduction/181224_trapezium/raw_data/lm_181224_001380.fits\n",
      "/Volumes/seagate_external_drive/lbti_data_reduction/181224_trapezium/raw_data/lm_181224_001381.fits\n",
      "/Volumes/seagate_external_drive/lbti_data_reduction/181224_trapezium/raw_data/lm_181224_001382.fits\n",
      "/Volumes/seagate_external_drive/lbti_data_reduction/181224_trapezium/raw_data/lm_181224_001383.fits\n",
      "/Volumes/seagate_external_drive/lbti_data_reduction/181224_trapezium/raw_data/lm_181224_001384.fits\n",
      "/Volumes/seagate_external_drive/lbti_data_reduction/181224_trapezium/raw_data/lm_181224_001385.fits\n",
      "/Volumes/seagate_external_drive/lbti_data_reduction/181224_trapezium/raw_data/lm_181224_001386.fits\n",
      "/Volumes/seagate_external_drive/lbti_data_reduction/181224_trapezium/raw_data/lm_181224_001387.fits\n",
      "/Volumes/seagate_external_drive/lbti_data_reduction/181224_trapezium/raw_data/lm_181224_001388.fits\n",
      "/Volumes/seagate_external_drive/lbti_data_reduction/181224_trapezium/raw_data/lm_181224_001389.fits\n",
      "/Volumes/seagate_external_drive/lbti_data_reduction/181224_trapezium/raw_data/lm_181224_001390.fits\n",
      "/Volumes/seagate_external_drive/lbti_data_reduction/181224_trapezium/raw_data/lm_181224_001391.fits\n",
      "/Volumes/seagate_external_drive/lbti_data_reduction/181224_trapezium/raw_data/lm_181224_001392.fits\n",
      "/Volumes/seagate_external_drive/lbti_data_reduction/181224_trapezium/raw_data/lm_181224_001393.fits\n",
      "/Volumes/seagate_external_drive/lbti_data_reduction/181224_trapezium/raw_data/lm_181224_001394.fits\n",
      "/Volumes/seagate_external_drive/lbti_data_reduction/181224_trapezium/raw_data/lm_181224_001395.fits\n",
      "/Volumes/seagate_external_drive/lbti_data_reduction/181224_trapezium/raw_data/lm_181224_001396.fits\n",
      "/Volumes/seagate_external_drive/lbti_data_reduction/181224_trapezium/raw_data/lm_181224_001397.fits\n",
      "/Volumes/seagate_external_drive/lbti_data_reduction/181224_trapezium/raw_data/lm_181224_001398.fits\n",
      "/Volumes/seagate_external_drive/lbti_data_reduction/181224_trapezium/raw_data/lm_181224_001399.fits\n",
      "/Volumes/seagate_external_drive/lbti_data_reduction/181224_trapezium/raw_data/lm_181224_001400.fits\n",
      "/Volumes/seagate_external_drive/lbti_data_reduction/181224_trapezium/raw_data/lm_181224_001401.fits\n",
      "/Volumes/seagate_external_drive/lbti_data_reduction/181224_trapezium/raw_data/lm_181224_001402.fits\n",
      "/Volumes/seagate_external_drive/lbti_data_reduction/181224_trapezium/raw_data/lm_181224_001403.fits\n",
      "/Volumes/seagate_external_drive/lbti_data_reduction/181224_trapezium/raw_data/lm_181224_001404.fits\n",
      "/Volumes/seagate_external_drive/lbti_data_reduction/181224_trapezium/raw_data/lm_181224_001405.fits\n",
      "/Volumes/seagate_external_drive/lbti_data_reduction/181224_trapezium/raw_data/lm_181224_001406.fits\n",
      "/Volumes/seagate_external_drive/lbti_data_reduction/181224_trapezium/raw_data/lm_181224_001407.fits\n",
      "/Volumes/seagate_external_drive/lbti_data_reduction/181224_trapezium/raw_data/lm_181224_001408.fits\n",
      "/Volumes/seagate_external_drive/lbti_data_reduction/181224_trapezium/raw_data/lm_181224_001409.fits\n",
      "/Volumes/seagate_external_drive/lbti_data_reduction/181224_trapezium/raw_data/lm_181224_001410.fits\n",
      "/Volumes/seagate_external_drive/lbti_data_reduction/181224_trapezium/raw_data/lm_181224_001411.fits\n",
      "/Volumes/seagate_external_drive/lbti_data_reduction/181224_trapezium/raw_data/lm_181224_001412.fits\n",
      "/Volumes/seagate_external_drive/lbti_data_reduction/181224_trapezium/raw_data/lm_181224_001413.fits\n",
      "/Volumes/seagate_external_drive/lbti_data_reduction/181224_trapezium/raw_data/lm_181224_001414.fits\n",
      "/Volumes/seagate_external_drive/lbti_data_reduction/181224_trapezium/raw_data/lm_181224_001415.fits\n",
      "/Volumes/seagate_external_drive/lbti_data_reduction/181224_trapezium/raw_data/lm_181224_001416.fits\n",
      "/Volumes/seagate_external_drive/lbti_data_reduction/181224_trapezium/raw_data/lm_181224_001417.fits\n",
      "/Volumes/seagate_external_drive/lbti_data_reduction/181224_trapezium/raw_data/lm_181224_001418.fits\n",
      "/Volumes/seagate_external_drive/lbti_data_reduction/181224_trapezium/raw_data/lm_181224_001419.fits\n",
      "/Volumes/seagate_external_drive/lbti_data_reduction/181224_trapezium/raw_data/lm_181224_001420.fits\n",
      "/Volumes/seagate_external_drive/lbti_data_reduction/181224_trapezium/raw_data/lm_181224_001421.fits\n"
     ]
    },
    {
     "data": {
      "text/plain": [
       "<Figure size 432x288 with 0 Axes>"
      ]
     },
     "metadata": {},
     "output_type": "display_data"
    }
   ],
   "source": [
    "make_pngs(trapezium_files[159:])"
   ]
  },
  {
   "cell_type": "code",
   "execution_count": 7,
   "metadata": {
    "collapsed": false
   },
   "outputs": [
    {
     "data": {
      "image/png": "[encoded data removed]",
      "text/plain": [
       "<Figure size 432x288 with 1 Axes>"
      ]
     },
     "metadata": {
      "needs_background": "light"
     },
     "output_type": "display_data"
    }
   ],
   "source": [
    "plt.imshow(ersatz_dark[1])\n",
    "plt.show()"
   ]
  },
  {
   "cell_type": "code",
   "execution_count": 117,
   "metadata": {
    "collapsed": false
   },
   "outputs": [],
   "source": [
    "def make_median(file_write_string,file_read_string,ditherPos,startNum,stopNum,xSize=2048,ySize=2048,N=1):\n",
    "    '''\n",
    "    makes a median from a range of FITS files\n",
    "    INPUTS--\n",
    "    ditherPos: number indicating the dither number\n",
    "    startNum: first frame number\n",
    "    stopNum: last frame number (inclusive)\n",
    "    xSize: pixels in x-dimension\n",
    "    ySize: pixels in y-dimension\n",
    "    N: number of frames between each one used to make the median (default is 1: no skipped frames)\n",
    "    '''\n",
    "    N = N # use every N frames\n",
    "    xSize = xSize\n",
    "    ySize = ySize\n",
    "    sliceNum = 0 # initialize cube slice number\n",
    "    cubeArray = np.zeros((int(np.divide(stopNum-startNum+1,N)),xSize,ySize),dtype=np.int64)\n",
    "    for f in range(startNum,stopNum+1): # loop over filenames\n",
    "        if (f%N == 0): \n",
    "            #print('----------------------------------------')\n",
    "            #print(str(f))\n",
    "            image, header = fits.getdata(dirTreeStem+\n",
    "                                         file_read_string+\n",
    "                                         str(\"{:0>6d}\".format(f))+\n",
    "                                         '.fits',\n",
    "                                         0,\n",
    "                                         header=True)\n",
    "            \n",
    "            cubeArray[sliceNum,:,:] = image[1]\n",
    "            sliceNum += 1 # move to next slice\n",
    "    \n",
    "    # take median\n",
    "    medianArray = np.median(cubeArray,axis=0)\n",
    "    \n",
    "    # save median\n",
    "    fits.writeto(medians_stem+file_write_string+'dither_'+str(\"{:0>2d}\".format(ditherPos))+'.fits', \n",
    "                 data = medianArray,\n",
    "                 header = header,\n",
    "                 overwrite=True)"
   ]
  },
  {
   "cell_type": "code",
   "execution_count": 118,
   "metadata": {
    "collapsed": false
   },
   "outputs": [],
   "source": [
    "# run the function\n",
    "\n",
    "make_median(\"SX_half_moon\",\"lm_181224_\",1,1103,1111)\n",
    "make_median(\"SX_half_moon\",\"lm_181224_\",2,1113,1121)\n",
    "make_median(\"SX_half_moon\",\"lm_181224_\",3,1123,1131)\n",
    "make_median(\"SX_half_moon\",\"lm_181224_\",4,1133,1141)\n",
    "make_median(\"SX_half_moon\",\"lm_181224_\",5,1143,1151)\n",
    "make_median(\"SX_half_moon\",\"lm_181224_\",6,1153,1161)\n",
    "make_median(\"SX_half_moon\",\"lm_181224_\",7,1163,1171)\n",
    "make_median(\"SX_half_moon\",\"lm_181224_\",8,1173,1181)\n",
    "make_median(\"SX_half_moon\",\"lm_181224_\",9,1183,1191)\n",
    "make_median(\"SX_half_moon\",\"lm_181224_\",10,1193,1201)\n",
    "make_median(\"SX_half_moon\",\"lm_181224_\",11,1203,1211)\n",
    "make_median(\"SX_half_moon\",\"lm_181224_\",12,1213,1221)\n",
    "make_median(\"SX_half_moon\",\"lm_181224_\",13,1223,1231)\n",
    "make_median(\"SX_half_moon\",\"lm_181224_\",14,1233,1241)\n",
    "make_median(\"SX_half_moon\",\"lm_181224_\",15,1243,1251)\n",
    "make_median(\"SX_half_moon\",\"lm_181224_\",16,1253,1261)"
   ]
  },
  {
   "cell_type": "code",
   "execution_count": 119,
   "metadata": {
    "collapsed": false
   },
   "outputs": [],
   "source": [
    "# run the function\n",
    "\n",
    "make_median(\"DX_half_moon\",\"lm_181224_\",1,1263,1271)\n",
    "make_median(\"DX_half_moon\",\"lm_181224_\",2,1273,1281)\n",
    "make_median(\"DX_half_moon\",\"lm_181224_\",3,1283,1291)\n",
    "make_median(\"DX_half_moon\",\"lm_181224_\",4,1293,1301)\n",
    "make_median(\"DX_half_moon\",\"lm_181224_\",5,1303,1311)\n",
    "make_median(\"DX_half_moon\",\"lm_181224_\",6,1313,1321)\n",
    "make_median(\"DX_half_moon\",\"lm_181224_\",7,1323,1331)\n",
    "make_median(\"DX_half_moon\",\"lm_181224_\",8,1333,1341)\n",
    "make_median(\"DX_half_moon\",\"lm_181224_\",9,1343,1351)\n",
    "make_median(\"DX_half_moon\",\"lm_181224_\",10,1353,1361)\n",
    "make_median(\"DX_half_moon\",\"lm_181224_\",11,1363,1371)\n",
    "make_median(\"DX_half_moon\",\"lm_181224_\",12,1373,1381)\n",
    "make_median(\"DX_half_moon\",\"lm_181224_\",13,1383,1391)\n",
    "make_median(\"DX_half_moon\",\"lm_181224_\",14,1393,1401)\n",
    "make_median(\"DX_half_moon\",\"lm_181224_\",15,1403,1411)\n",
    "make_median(\"DX_half_moon\",\"lm_181224_\",16,1413,1421)"
   ]
  },
  {
   "cell_type": "code",
   "execution_count": 108,
   "metadata": {
    "collapsed": false
   },
   "outputs": [],
   "source": [
    "make_median(file_write_string = \"DX_pinholes_\",\n",
    "            file_read_string = \"lm_190125_\",\n",
    "            ditherPos = 1,\n",
    "            startNum = 33,\n",
    "            stopNum = 42)"
   ]
  },
  {
   "cell_type": "code",
   "execution_count": 110,
   "metadata": {
    "collapsed": false
   },
   "outputs": [],
   "source": [
    "make_median(file_write_string = \"dark_for_DX_pinholes_\",\n",
    "            file_read_string = \"lm_190125_\",\n",
    "            ditherPos = 1,\n",
    "            startNum = 43,\n",
    "            stopNum = 52)"
   ]
  },
  {
   "cell_type": "code",
   "execution_count": 109,
   "metadata": {
    "collapsed": false
   },
   "outputs": [],
   "source": [
    "make_median(file_write_string = \"SX_pinholes_\",\n",
    "            file_read_string = \"lm_190125_\",\n",
    "            ditherPos = 1,\n",
    "            startNum = 53,\n",
    "            stopNum = 62)"
   ]
  },
  {
   "cell_type": "code",
   "execution_count": 111,
   "metadata": {
    "collapsed": false
   },
   "outputs": [],
   "source": [
    "make_median(file_write_string = \"dark_for_SX_pinholes_\",\n",
    "            file_read_string = \"lm_190125_\",\n",
    "            ditherPos = 1,\n",
    "            startNum = 63,\n",
    "            stopNum = 72)"
   ]
  },
  {
   "cell_type": "code",
   "execution_count": 3,
   "metadata": {
    "collapsed": true
   },
   "outputs": [],
   "source": [
    "trapezium_stem = ('/Volumes/seagate_external_drive/lbti_data_reduction/181224_trapezium/')\n",
    "pinholes_stem = ('/Volumes/seagate_external_drive/lbti_data_reduction/190125_pinhole_grid/')"
   ]
  },
  {
   "cell_type": "code",
   "execution_count": 9,
   "metadata": {
    "collapsed": false
   },
   "outputs": [],
   "source": [
    "# dark-subtract\n",
    "\n",
    "dx_pinholes_pre_dark_subt, header = fits.getdata(pinholes_stem + \"medians/DX_pinholes_dither_01.fits\",0,header=True)\n",
    "dark_dx_pinholes, header = fits.getdata(pinholes_stem + \"medians/dark_for_DX_pinholes_dither_01.fits\",0,header=True)\n",
    "\n",
    "sx_pinholes_pre_dark_subt, header = fits.getdata(pinholes_stem + \"medians/SX_pinholes_dither_01.fits\",0,header=True)\n",
    "dark_sx_pinholes, header = fits.getdata(pinholes_stem + \"medians/dark_for_SX_pinholes_dither_01.fits\",0,header=True)\n",
    "\n",
    "dx_pinholes_post_dark_subt = np.subtract(dx_pinholes_pre_dark_subt,dark_dx_pinholes)\n",
    "sx_pinholes_post_dark_subt = np.subtract(sx_pinholes_pre_dark_subt,dark_sx_pinholes)\n",
    "\n",
    "\n",
    "\n",
    "# fix bad pixels\n",
    "\n",
    "# define the convolution kernel (normalized by default)\n",
    "kernel1 = np.ones((3,3)) # just a patch around the pixel\n",
    "\n",
    "# read in old bad pixel mask\n",
    "badpix = fits.getdata(\"bpm_2048x2048_2017B.fits\")\n",
    "# turn 1->nan (bad), 0->1 (good) for interpolate_replace_nans\n",
    "ersatz = np.nan*np.ones(np.shape(badpix))\n",
    "ersatz[badpix == 0] = 1.\n",
    "badpix = ersatz # rename\n",
    "del ersatz\n",
    "\n",
    "# multiply science frames by badpix mask\n",
    "dx_pinholes_post_dark_subt_badnan = np.multiply(dx_pinholes_post_dark_subt,badpix)\n",
    "sx_pinholes_post_dark_subt_badnan = np.multiply(sx_pinholes_post_dark_subt,badpix)\n",
    "\n",
    "# convolve\n",
    "dx_pinholes_post_dark_subt_fixpixed = interpolate_replace_nans(array=dx_pinholes_post_dark_subt_badnan, \n",
    "                                                               kernel=kernel1).astype(np.int32)\n",
    "sx_pinholes_post_dark_subt_fixpixed = interpolate_replace_nans(array=sx_pinholes_post_dark_subt_badnan, \n",
    "                                                               kernel=kernel1).astype(np.int32)\n",
    "      \n",
    "# write\n",
    "fits.writeto(pinholes_stem + \"final_images/dx_pinholes_190125.fits\", \n",
    "                 data = dx_pinholes_post_dark_subt_fixpixed,\n",
    "                 header = header,\n",
    "                 overwrite=True)\n",
    "fits.writeto(pinholes_stem + \"final_images/sx_pinholes_190125.fits\", \n",
    "                 data = sx_pinholes_post_dark_subt_fixpixed,\n",
    "                 header = header,\n",
    "                 overwrite=True)"
   ]
  },
  {
   "cell_type": "code",
   "execution_count": 19,
   "metadata": {
    "collapsed": false
   },
   "outputs": [],
   "source": [
    "# define the convolution kernel (normalized by default)\n",
    "kernel1 = np.ones((3,3)) # just a patch around the pixel\n",
    "\n",
    "# read in old bad pixel mask\n",
    "badpix = fits.getdata(\"bpm_2048x2048_2017B.fits\")\n",
    "# turn 1->nan (bad), 0->1 (good) for interpolate_replace_nans\n",
    "ersatz = np.nan*np.ones(np.shape(badpix))\n",
    "ersatz[badpix == 0] = 1.\n",
    "badpix = ersatz # rename\n",
    "del ersatz\n",
    "\n",
    "for t in range(0,len(trapezium_files)):\n",
    "    \n",
    "    sci_img, header = fits.getdata(trapezium_files[t],0,header=True)\n",
    "    \n",
    "    # ersatz dark subtraction\n",
    "    sci_img_backsubt = process_readout.bkgdsub(sci_img, \"median\")\n",
    "    \n",
    "    # multiply science frames by badpix mask\n",
    "    sci_img_backsubt_badnan = np.multiply(sci_img_backsubt,badpix)\n",
    "    \n",
    "    # bad pixel fixing\n",
    "    sci_img_backsubt_fixpixed = interpolate_replace_nans(array=sci_img_backsubt_badnan, \n",
    "                                                               kernel=kernel1).astype(np.int32)\n",
    "    \n",
    "    # smooth a bit\n",
    "    sci_img_backsubt_fixpixed_smoothed = scipy.ndimage.filters.gaussian_filter(sci_img_backsubt_fixpixed, sigma=2)\n",
    "    \n",
    "    # write back out\n",
    "    fits.writeto(dirTreeStem + \"../step01_darkSubtBadPixCorrect/\" + \\\n",
    "                 os.path.basename(trapezium_files[t]), \n",
    "                 data = sci_img_backsubt_fixpixed_smoothed,\n",
    "                 header = header,\n",
    "                 overwrite=True)"
   ]
  },
  {
   "cell_type": "code",
   "execution_count": null,
   "metadata": {
    "collapsed": true
   },
   "outputs": [],
   "source": []
  }
 ],
 "metadata": {
  "kernelspec": {
   "display_name": "Python 3",
   "language": "python",
   "name": "python3"
  },
  "language_info": {
   "codemirror_mode": {
    "name": "ipython",
    "version": 3
   },
   "file_extension": ".py",
   "mimetype": "text/x-python",
   "name": "python",
   "nbconvert_exporter": "python",
   "pygments_lexer": "ipython3",
   "version": "3.5.4"
  }
 },
 "nbformat": 4,
 "nbformat_minor": 0
}
