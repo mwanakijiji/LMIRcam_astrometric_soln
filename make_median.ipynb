{
 "cells": [
  {
   "cell_type": "code",
   "execution_count": null,
   "metadata": {
    "collapsed": true
   },
   "outputs": [],
   "source": [
    "# This makes a cube of FITS files, so as to inspect images en masse with DS9\n",
    "\n",
    "# Saved as .py file, 2017 Nov 19\n",
    "\n",
    "# created 2017 Nov 19 by E.S."
   ]
  },
  {
   "cell_type": "code",
   "execution_count": 1,
   "metadata": {
    "collapsed": false
   },
   "outputs": [],
   "source": [
    "import matplotlib\n",
    "import matplotlib.pyplot as plt\n",
    "from matplotlib.dates import DateFormatter\n",
    "import numpy as np\n",
    "import pandas as pd\n",
    "import datetime\n",
    "from astropy.io import fits\n",
    "import asciitable\n",
    "from pathlib import Path"
   ]
  },
  {
   "cell_type": "code",
   "execution_count": 2,
   "metadata": {
    "collapsed": true
   },
   "outputs": [],
   "source": [
    "# set file paths and datasets\n",
    "\n",
    "dirTreeStem = ('/home/../../media/unasemaje/Seagate Expansion Drive/lbti_data_reduction/'\n",
    "               'lmircam_astrometry/ut_2017_11_06/asterism/processedData/')\n",
    "retrievalPiece = ('step03_derotate/')\n",
    "depositPiece = ('step04_ditherMedians/')\n",
    "fileNameStem = ('lm_171106_')"
   ]
  },
  {
   "cell_type": "code",
   "execution_count": 3,
   "metadata": {
    "collapsed": false
   },
   "outputs": [],
   "source": [
    "def make_median(ditherPos,startNum,stopNum,xSize=2048,ySize=2048,N=1):\n",
    "    '''\n",
    "    makes a median from a range of FITS files\n",
    "    INPUTS--\n",
    "    ditherPos: number indicating the dither number\n",
    "    startNum: first frame number\n",
    "    stopNum: last frame number (inclusive)\n",
    "    xSize: pixels in x-dimension\n",
    "    ySize: pixels in y-dimension\n",
    "    N: number of frames between each one used to make the median (default is 1: no skipped frames)\n",
    "    '''\n",
    "    N = N # use every N frames\n",
    "    xSize = xSize\n",
    "    ySize = ySize\n",
    "    sliceNum = 0 # initialize cube slice number\n",
    "    cubeArray = np.zeros((int(np.divide(stopNum-startNum+1,N)),xSize,ySize),dtype=np.int64)\n",
    "    for f in range(startNum,stopNum+1): # loop over filenames\n",
    "        if (f%N == 0): \n",
    "            print('----------------------------------------')\n",
    "            print(str(f))\n",
    "            image, header = fits.getdata(dirTreeStem+\n",
    "                                         retrievalPiece+\n",
    "                                 fileNameStem+\n",
    "                                 str(\"{:0>5d}\".format(f))+\n",
    "                                 '.fits',\n",
    "                                 0,\n",
    "                                 header=True)\n",
    "            \n",
    "            cubeArray[sliceNum,:,:] = image\n",
    "            sliceNum += 1 # move to next slice\n",
    "    \n",
    "    # take median\n",
    "    medianArray = np.median(cubeArray,axis=0)\n",
    "    \n",
    "    # save median\n",
    "    hdu = fits.PrimaryHDU(medianArray)\n",
    "    hdulist = fits.HDUList([hdu])\n",
    "    hdulist.writeto(dirTreeStem+depositPiece+fileNameStem+'dither_'+str(\"{:0>2d}\".format(ditherPos))+'.fits',\n",
    "                    overwrite=False)"
   ]
  },
  {
   "cell_type": "code",
   "execution_count": 19,
   "metadata": {
    "collapsed": false
   },
   "outputs": [
    {
     "name": "stdout",
     "output_type": "stream",
     "text": [
      "----------------------------------------\n",
      "8597\n",
      "----------------------------------------\n",
      "8598\n",
      "----------------------------------------\n",
      "8599\n",
      "----------------------------------------\n",
      "8600\n",
      "----------------------------------------\n",
      "8601\n",
      "----------------------------------------\n",
      "8602\n",
      "----------------------------------------\n",
      "8603\n",
      "----------------------------------------\n",
      "8604\n",
      "----------------------------------------\n",
      "8605\n",
      "----------------------------------------\n",
      "8606\n",
      "----------------------------------------\n",
      "8607\n",
      "----------------------------------------\n",
      "8608\n",
      "----------------------------------------\n",
      "8609\n",
      "----------------------------------------\n",
      "8610\n",
      "----------------------------------------\n",
      "8611\n",
      "----------------------------------------\n",
      "8612\n",
      "----------------------------------------\n",
      "8613\n",
      "----------------------------------------\n",
      "8614\n",
      "----------------------------------------\n",
      "8615\n",
      "----------------------------------------\n",
      "8616\n"
     ]
    }
   ],
   "source": [
    "# run the function\n",
    "\n",
    "make_median(0,8597,8616)"
   ]
  },
  {
   "cell_type": "code",
   "execution_count": null,
   "metadata": {
    "collapsed": true
   },
   "outputs": [],
   "source": []
  }
 ],
 "metadata": {
  "kernelspec": {
   "display_name": "Python 3",
   "language": "python",
   "name": "python3"
  },
  "language_info": {
   "codemirror_mode": {
    "name": "ipython",
    "version": 3
   },
   "file_extension": ".py",
   "mimetype": "text/x-python",
   "name": "python",
   "nbconvert_exporter": "python",
   "pygments_lexer": "ipython3",
   "version": "3.5.4"
  }
 },
 "nbformat": 4,
 "nbformat_minor": 0
}
