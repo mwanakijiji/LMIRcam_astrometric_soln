{
 "cells": [
  {
   "cell_type": "code",
   "execution_count": null,
   "metadata": {
    "collapsed": true
   },
   "outputs": [],
   "source": [
    "# This makes a fake data frame for testing the needed LMIRcam orientation retrieval\n",
    "# in the Dewarp code\n",
    "\n",
    "# created 2019 May 23 by E.S."
   ]
  },
  {
   "cell_type": "code",
   "execution_count": 22,
   "metadata": {
    "collapsed": false
   },
   "outputs": [],
   "source": [
    "import matplotlib\n",
    "import matplotlib.pyplot as plt\n",
    "import numpy as np\n",
    "import pandas as pd\n",
    "import datetime\n",
    "from astropy.io import fits\n",
    "import asciitable\n",
    "from pathlib import Path\n",
    "import glob\n",
    "import scipy\n",
    "import os\n",
    "from scipy.ndimage import gaussian_filter\n",
    "from astropy.convolution import convolve, Gaussian1DKernel, interpolate_replace_nans\n",
    "from lmircam_tools import process_readout\n",
    "from scipy.ndimage import rotate, map_coordinates"
   ]
  },
  {
   "cell_type": "code",
   "execution_count": 23,
   "metadata": {
    "collapsed": true
   },
   "outputs": [],
   "source": [
    "# this function from Jordan Stone's LEECH code\n",
    "def rot(im, angle, axis, order=3, pivot=False):\n",
    "    '''rotate an image clockwise by angle [degrees] about axis.\n",
    "    if pivot is true the image will pivot about the axis. otherwise\n",
    "    the axis will be centered in the output image''' \n",
    "    angle*=np.pi/180.#convert to radians\n",
    "    y,x = np.indices(im.shape)\n",
    "\n",
    "    # calculate how the axis moves when pivoting from bottom left corner\n",
    "    theta_axis = np.arctan2(axis[1],axis[0])\n",
    "    r_axis = np.abs(axis[0]+1j*axis[1])\n",
    "    yoffset = r_axis*np.sin(theta_axis) - r_axis*np.sin(theta_axis-angle)\n",
    "    xoffset = r_axis*np.cos(theta_axis) - r_axis*np.cos(theta_axis-angle)\n",
    "\n",
    "    # put the axis in the middle? \n",
    "    ycenter_offset = (1-pivot) * ((im.shape[0]/2.)-axis[1])#pivot is a bool (i.e. 0 or 1)\n",
    "    xcenter_offset = (1-pivot) * ((im.shape[1]/2.)-axis[0])\n",
    "    yoffset += ycenter_offset\n",
    "    xoffset += xcenter_offset\n",
    "\n",
    "    # make rotation matrix elements\n",
    "    ct = np.cos(angle)\n",
    "    st = np.sin(angle)\n",
    "\n",
    "    # do the rotation \n",
    "    new_x = (ct*(x-xoffset) - st*(y-yoffset)) \n",
    "    new_y = (st*(x-xoffset) + ct*(y-yoffset))\n",
    "    \n",
    "    return map_coordinates(im, [new_y, new_x], order=order)"
   ]
  },
  {
   "cell_type": "code",
   "execution_count": 30,
   "metadata": {
    "collapsed": false
   },
   "outputs": [],
   "source": [
    "def make_fake():\n",
    "    '''\n",
    "    makes a frame with two fake stars at the same RA, rotates image to a fake PA\n",
    "    '''\n",
    "    \n",
    "    # noise\n",
    "    noise_frame = 10*np.random.rand(2048,2048)\n",
    "    \n",
    "    # inject stars\n",
    "    sigma_x= 10\n",
    "    sigma_y= 10\n",
    "    x0 = 1250\n",
    "    y0 = 1400\n",
    "    ampl = 2000\n",
    "    x, y = np.meshgrid(np.linspace(0,2048,num=2048), np.linspace(0,2048,num=2048))\n",
    "    #z = np.power(y,2)\n",
    "    z0 = ampl*np.exp(-((x-x0)**2/(2*sigma_x**2) + (y-y0)**2/(2*sigma_y**2)))\n",
    "    z1 = ampl*np.exp(-((x-x0)**2/(2*sigma_x**2) + (y-750)**2/(2*sigma_y**2)))\n",
    "\n",
    "    fake_frame = np.add(np.add(noise_frame,z0),z1)\n",
    "    \n",
    "    # rotate 19.5 deg CCW\n",
    "    # derotate\n",
    "    fake_rot = rot(im = fake_frame,\n",
    "                              angle = -20,\n",
    "                              axis = [1024,1024],\n",
    "                              order = 3, pivot=False) # axis coord here is just a dummy\n",
    "    \n",
    "    hdr = fits.Header()\n",
    "    hdr[\"LBT_PARA\"] = -19.5\n",
    "    \n",
    "    fits.writeto(\"test_fake.fits\", \n",
    "                 data = fake_rot,\n",
    "                 header = hdr,\n",
    "                 overwrite=True)\n",
    "    \n",
    "    return fake_frame, z0, z1"
   ]
  },
  {
   "cell_type": "code",
   "execution_count": 31,
   "metadata": {
    "collapsed": false
   },
   "outputs": [],
   "source": [
    "test1, test2, test3 = make_fake()"
   ]
  },
  {
   "cell_type": "code",
   "execution_count": 4,
   "metadata": {
    "collapsed": false
   },
   "outputs": [
    {
     "data": {
      "text/plain": [
       "(2048, 2048)"
      ]
     },
     "execution_count": 4,
     "metadata": {},
     "output_type": "execute_result"
    }
   ],
   "source": [
    "np.shape(test)"
   ]
  },
  {
   "cell_type": "code",
   "execution_count": 11,
   "metadata": {
    "collapsed": false
   },
   "outputs": [],
   "source": [
    "astropy.modeling.rotations.Rotation2D(angle=45.0)"
   ]
  },
  {
   "cell_type": "code",
   "execution_count": null,
   "metadata": {
    "collapsed": true
   },
   "outputs": [],
   "source": []
  }
 ],
 "metadata": {
  "kernelspec": {
   "display_name": "Python 3",
   "language": "python",
   "name": "python3"
  },
  "language_info": {
   "codemirror_mode": {
    "name": "ipython",
    "version": 3
   },
   "file_extension": ".py",
   "mimetype": "text/x-python",
   "name": "python",
   "nbconvert_exporter": "python",
   "pygments_lexer": "ipython3",
   "version": "3.5.4"
  }
 },
 "nbformat": 4,
 "nbformat_minor": 0
}
